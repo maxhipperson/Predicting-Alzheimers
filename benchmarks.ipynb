{
 "cells": [
  {
   "cell_type": "markdown",
   "metadata": {},
   "source": [
    "# Custom Benchmarks"
   ]
  },
  {
   "cell_type": "code",
   "execution_count": 5,
   "metadata": {
    "scrolled": true
   },
   "outputs": [
    {
     "name": "stdout",
     "output_type": "stream",
     "text": [
      "Version: 2020-02-04 11:02:43\n"
     ]
    }
   ],
   "source": [
    "import datetime\n",
    "now = datetime.datetime.now()\n",
    "print(f'Version: {now.strftime(\"%Y-%m-%d %H:%M:%S\")}')"
   ]
  },
  {
   "cell_type": "code",
   "execution_count": null,
   "metadata": {},
   "outputs": [],
   "source": []
  },
  {
   "cell_type": "code",
   "execution_count": 6,
   "metadata": {},
   "outputs": [],
   "source": [
    "import os\n",
    "import pandas as pd\n",
    "\n",
    "directory = 'data'\n",
    "\n",
    "train_csv = 'benchmark_train.csv'\n",
    "test_csv = 'benchmark_test.csv'\n",
    "\n",
    "train_df = pd.read_csv(os.path.join(directory, train_csv))\n",
    "test_df = pd.read_csv(os.path.join(directory, test_csv))"
   ]
  },
  {
   "cell_type": "code",
   "execution_count": 7,
   "metadata": {
    "scrolled": false
   },
   "outputs": [
    {
     "name": "stdout",
     "output_type": "stream",
     "text": [
      "<class 'pandas.core.frame.DataFrame'>\n",
      "RangeIndex: 2734 entries, 0 to 2733\n",
      "Data columns (total 19 columns):\n",
      " #   Column             Non-Null Count  Dtype  \n",
      "---  ------             --------------  -----  \n",
      " 0   RID                2734 non-null   int64  \n",
      " 1   D1                 2734 non-null   int64  \n",
      " 2   D2                 2734 non-null   int64  \n",
      " 3   diagnosis          2734 non-null   object \n",
      " 4   ADAS13             2734 non-null   float64\n",
      " 5   Ventricles         2734 non-null   float64\n",
      " 6   CDRSB              2734 non-null   float64\n",
      " 7   ADAS11             2734 non-null   float64\n",
      " 8   MMSE               2734 non-null   float64\n",
      " 9   RAVLT_immediate    2734 non-null   float64\n",
      " 10  Hippocampus        2734 non-null   float64\n",
      " 11  WholeBrain         2734 non-null   float64\n",
      " 12  Entorhinal         2734 non-null   float64\n",
      " 13  MidTemp            2734 non-null   float64\n",
      " 14  APOE4              2734 non-null   float64\n",
      " 15  AGE_AT_EXAM        2734 non-null   float64\n",
      " 16  target_diagnosis   2734 non-null   object \n",
      " 17  target_ADAS13      2734 non-null   float64\n",
      " 18  target_Ventricles  2734 non-null   float64\n",
      "dtypes: float64(14), int64(3), object(2)\n",
      "memory usage: 406.0+ KB\n"
     ]
    }
   ],
   "source": [
    "train_df.info()"
   ]
  },
  {
   "cell_type": "code",
   "execution_count": 107,
   "metadata": {
    "scrolled": false
   },
   "outputs": [
    {
     "name": "stdout",
     "output_type": "stream",
     "text": [
      "fraction of entries in train that correspond to diagnosis changes: 0.108\n",
      "fraction of entries in test that correspond to diagnosis changes: 0.085\n"
     ]
    }
   ],
   "source": [
    "for name, df in {'train': train_df, 'test': test_df}.items():\n",
    "    state_change_fraction = len(df[df.diagnosis != df.target_diagnosis]) / len(df)\n",
    "    print(f'fraction of entries in {name} that correspond to diagnosis changes: {state_change_fraction:.2f}')"
   ]
  },
  {
   "cell_type": "markdown",
   "metadata": {},
   "source": [
    "##  Predicting Diagnosis"
   ]
  },
  {
   "cell_type": "code",
   "execution_count": 83,
   "metadata": {},
   "outputs": [
    {
     "data": {
      "text/plain": [
       "[array(['AD', 'CN', 'MCI'], dtype=object)]"
      ]
     },
     "execution_count": 83,
     "metadata": {},
     "output_type": "execute_result"
    }
   ],
   "source": [
    "from sklearn.preprocessing import OrdinalEncoder\n",
    "\n",
    "oe = OrdinalEncoder()\n",
    "train_df['encoded_diagnosis'] = oe.fit_transform(train_df['diagnosis'].to_numpy().reshape(-1, 1))\n",
    "\n",
    "train_df['encoded_diagnosis'] = oe.fit_transform(train_df['diagnosis'].to_numpy().reshape(-1, 1))\n",
    "test_df['encoded_diagnosis'] = oe.fit_transform(test_df['diagnosis'].to_numpy().reshape(-1, 1))\n",
    "\n",
    "oe.categories_"
   ]
  },
  {
   "cell_type": "code",
   "execution_count": 84,
   "metadata": {},
   "outputs": [
    {
     "data": {
      "text/html": [
       "<div>\n",
       "<style scoped>\n",
       "    .dataframe tbody tr th:only-of-type {\n",
       "        vertical-align: middle;\n",
       "    }\n",
       "\n",
       "    .dataframe tbody tr th {\n",
       "        vertical-align: top;\n",
       "    }\n",
       "\n",
       "    .dataframe thead th {\n",
       "        text-align: right;\n",
       "    }\n",
       "</style>\n",
       "<table border=\"1\" class=\"dataframe\">\n",
       "  <thead>\n",
       "    <tr style=\"text-align: right;\">\n",
       "      <th></th>\n",
       "      <th>RID</th>\n",
       "      <th>D1</th>\n",
       "      <th>D2</th>\n",
       "      <th>diagnosis</th>\n",
       "      <th>ADAS13</th>\n",
       "      <th>Ventricles</th>\n",
       "      <th>CDRSB</th>\n",
       "      <th>ADAS11</th>\n",
       "      <th>MMSE</th>\n",
       "      <th>RAVLT_immediate</th>\n",
       "      <th>Hippocampus</th>\n",
       "      <th>WholeBrain</th>\n",
       "      <th>Entorhinal</th>\n",
       "      <th>MidTemp</th>\n",
       "      <th>APOE4</th>\n",
       "      <th>AGE_AT_EXAM</th>\n",
       "      <th>target_diagnosis</th>\n",
       "      <th>target_ADAS13</th>\n",
       "      <th>target_Ventricles</th>\n",
       "      <th>encoded_diagnosis</th>\n",
       "    </tr>\n",
       "  </thead>\n",
       "  <tbody>\n",
       "    <tr>\n",
       "      <th>0</th>\n",
       "      <td>3</td>\n",
       "      <td>1</td>\n",
       "      <td>0</td>\n",
       "      <td>AD</td>\n",
       "      <td>31.00</td>\n",
       "      <td>84599.0</td>\n",
       "      <td>4.5</td>\n",
       "      <td>22.00</td>\n",
       "      <td>20.0</td>\n",
       "      <td>22.0</td>\n",
       "      <td>5319.0</td>\n",
       "      <td>1129830.0</td>\n",
       "      <td>1791.0</td>\n",
       "      <td>18422.0</td>\n",
       "      <td>1.0</td>\n",
       "      <td>81.300000</td>\n",
       "      <td>AD</td>\n",
       "      <td>30.00</td>\n",
       "      <td>88580.0</td>\n",
       "      <td>0.0</td>\n",
       "    </tr>\n",
       "    <tr>\n",
       "      <th>1</th>\n",
       "      <td>3</td>\n",
       "      <td>1</td>\n",
       "      <td>0</td>\n",
       "      <td>AD</td>\n",
       "      <td>30.00</td>\n",
       "      <td>88580.0</td>\n",
       "      <td>6.0</td>\n",
       "      <td>19.00</td>\n",
       "      <td>24.0</td>\n",
       "      <td>19.0</td>\n",
       "      <td>5446.0</td>\n",
       "      <td>1100060.0</td>\n",
       "      <td>2427.0</td>\n",
       "      <td>16972.0</td>\n",
       "      <td>1.0</td>\n",
       "      <td>81.798289</td>\n",
       "      <td>AD</td>\n",
       "      <td>35.00</td>\n",
       "      <td>90099.0</td>\n",
       "      <td>0.0</td>\n",
       "    </tr>\n",
       "    <tr>\n",
       "      <th>2</th>\n",
       "      <td>3</td>\n",
       "      <td>1</td>\n",
       "      <td>0</td>\n",
       "      <td>AD</td>\n",
       "      <td>35.00</td>\n",
       "      <td>90099.0</td>\n",
       "      <td>3.5</td>\n",
       "      <td>24.00</td>\n",
       "      <td>17.0</td>\n",
       "      <td>31.0</td>\n",
       "      <td>5157.0</td>\n",
       "      <td>1095640.0</td>\n",
       "      <td>1596.0</td>\n",
       "      <td>17330.0</td>\n",
       "      <td>1.0</td>\n",
       "      <td>82.299316</td>\n",
       "      <td>AD</td>\n",
       "      <td>37.67</td>\n",
       "      <td>97420.0</td>\n",
       "      <td>0.0</td>\n",
       "    </tr>\n",
       "    <tr>\n",
       "      <th>3</th>\n",
       "      <td>4</td>\n",
       "      <td>1</td>\n",
       "      <td>0</td>\n",
       "      <td>MCI</td>\n",
       "      <td>21.33</td>\n",
       "      <td>39605.0</td>\n",
       "      <td>1.0</td>\n",
       "      <td>14.33</td>\n",
       "      <td>27.0</td>\n",
       "      <td>37.0</td>\n",
       "      <td>6869.0</td>\n",
       "      <td>1154980.0</td>\n",
       "      <td>3983.0</td>\n",
       "      <td>19615.0</td>\n",
       "      <td>0.0</td>\n",
       "      <td>67.500000</td>\n",
       "      <td>MCI</td>\n",
       "      <td>25.33</td>\n",
       "      <td>39726.0</td>\n",
       "      <td>2.0</td>\n",
       "    </tr>\n",
       "    <tr>\n",
       "      <th>4</th>\n",
       "      <td>4</td>\n",
       "      <td>1</td>\n",
       "      <td>0</td>\n",
       "      <td>MCI</td>\n",
       "      <td>25.33</td>\n",
       "      <td>39726.0</td>\n",
       "      <td>0.5</td>\n",
       "      <td>17.33</td>\n",
       "      <td>28.0</td>\n",
       "      <td>33.0</td>\n",
       "      <td>6439.0</td>\n",
       "      <td>1116280.0</td>\n",
       "      <td>3711.0</td>\n",
       "      <td>20139.0</td>\n",
       "      <td>0.0</td>\n",
       "      <td>67.979124</td>\n",
       "      <td>MCI</td>\n",
       "      <td>22.00</td>\n",
       "      <td>38527.0</td>\n",
       "      <td>2.0</td>\n",
       "    </tr>\n",
       "    <tr>\n",
       "      <th>...</th>\n",
       "      <td>...</td>\n",
       "      <td>...</td>\n",
       "      <td>...</td>\n",
       "      <td>...</td>\n",
       "      <td>...</td>\n",
       "      <td>...</td>\n",
       "      <td>...</td>\n",
       "      <td>...</td>\n",
       "      <td>...</td>\n",
       "      <td>...</td>\n",
       "      <td>...</td>\n",
       "      <td>...</td>\n",
       "      <td>...</td>\n",
       "      <td>...</td>\n",
       "      <td>...</td>\n",
       "      <td>...</td>\n",
       "      <td>...</td>\n",
       "      <td>...</td>\n",
       "      <td>...</td>\n",
       "      <td>...</td>\n",
       "    </tr>\n",
       "    <tr>\n",
       "      <th>2729</th>\n",
       "      <td>4272</td>\n",
       "      <td>1</td>\n",
       "      <td>1</td>\n",
       "      <td>MCI</td>\n",
       "      <td>17.00</td>\n",
       "      <td>34680.0</td>\n",
       "      <td>1.5</td>\n",
       "      <td>9.00</td>\n",
       "      <td>25.0</td>\n",
       "      <td>27.0</td>\n",
       "      <td>7082.0</td>\n",
       "      <td>987579.0</td>\n",
       "      <td>3524.0</td>\n",
       "      <td>18255.0</td>\n",
       "      <td>0.0</td>\n",
       "      <td>71.877413</td>\n",
       "      <td>MCI</td>\n",
       "      <td>15.00</td>\n",
       "      <td>36882.0</td>\n",
       "      <td>2.0</td>\n",
       "    </tr>\n",
       "    <tr>\n",
       "      <th>2730</th>\n",
       "      <td>4272</td>\n",
       "      <td>1</td>\n",
       "      <td>1</td>\n",
       "      <td>MCI</td>\n",
       "      <td>15.00</td>\n",
       "      <td>36882.0</td>\n",
       "      <td>1.5</td>\n",
       "      <td>8.00</td>\n",
       "      <td>25.0</td>\n",
       "      <td>23.0</td>\n",
       "      <td>6592.0</td>\n",
       "      <td>969429.0</td>\n",
       "      <td>3371.0</td>\n",
       "      <td>17373.0</td>\n",
       "      <td>0.0</td>\n",
       "      <td>72.416769</td>\n",
       "      <td>MCI</td>\n",
       "      <td>10.00</td>\n",
       "      <td>36237.0</td>\n",
       "      <td>2.0</td>\n",
       "    </tr>\n",
       "    <tr>\n",
       "      <th>2731</th>\n",
       "      <td>4274</td>\n",
       "      <td>1</td>\n",
       "      <td>0</td>\n",
       "      <td>MCI</td>\n",
       "      <td>9.00</td>\n",
       "      <td>25466.0</td>\n",
       "      <td>1.0</td>\n",
       "      <td>4.00</td>\n",
       "      <td>30.0</td>\n",
       "      <td>43.0</td>\n",
       "      <td>9180.0</td>\n",
       "      <td>1154790.0</td>\n",
       "      <td>3354.0</td>\n",
       "      <td>22141.0</td>\n",
       "      <td>1.0</td>\n",
       "      <td>63.000000</td>\n",
       "      <td>MCI</td>\n",
       "      <td>10.00</td>\n",
       "      <td>24430.0</td>\n",
       "      <td>2.0</td>\n",
       "    </tr>\n",
       "    <tr>\n",
       "      <th>2732</th>\n",
       "      <td>4275</td>\n",
       "      <td>1</td>\n",
       "      <td>1</td>\n",
       "      <td>CN</td>\n",
       "      <td>10.00</td>\n",
       "      <td>44838.0</td>\n",
       "      <td>0.0</td>\n",
       "      <td>6.00</td>\n",
       "      <td>29.0</td>\n",
       "      <td>48.0</td>\n",
       "      <td>7864.0</td>\n",
       "      <td>1230920.0</td>\n",
       "      <td>4084.0</td>\n",
       "      <td>25071.0</td>\n",
       "      <td>0.0</td>\n",
       "      <td>72.800000</td>\n",
       "      <td>CN</td>\n",
       "      <td>10.00</td>\n",
       "      <td>46542.0</td>\n",
       "      <td>1.0</td>\n",
       "    </tr>\n",
       "    <tr>\n",
       "      <th>2733</th>\n",
       "      <td>4275</td>\n",
       "      <td>1</td>\n",
       "      <td>1</td>\n",
       "      <td>CN</td>\n",
       "      <td>10.00</td>\n",
       "      <td>46542.0</td>\n",
       "      <td>0.5</td>\n",
       "      <td>4.00</td>\n",
       "      <td>29.0</td>\n",
       "      <td>50.0</td>\n",
       "      <td>8006.0</td>\n",
       "      <td>1187900.0</td>\n",
       "      <td>4358.0</td>\n",
       "      <td>24177.0</td>\n",
       "      <td>0.0</td>\n",
       "      <td>74.294867</td>\n",
       "      <td>CN</td>\n",
       "      <td>11.00</td>\n",
       "      <td>46429.0</td>\n",
       "      <td>1.0</td>\n",
       "    </tr>\n",
       "  </tbody>\n",
       "</table>\n",
       "<p>2734 rows × 20 columns</p>\n",
       "</div>"
      ],
      "text/plain": [
       "       RID  D1  D2 diagnosis  ADAS13  Ventricles  CDRSB  ADAS11  MMSE  \\\n",
       "0        3   1   0        AD   31.00     84599.0    4.5   22.00  20.0   \n",
       "1        3   1   0        AD   30.00     88580.0    6.0   19.00  24.0   \n",
       "2        3   1   0        AD   35.00     90099.0    3.5   24.00  17.0   \n",
       "3        4   1   0       MCI   21.33     39605.0    1.0   14.33  27.0   \n",
       "4        4   1   0       MCI   25.33     39726.0    0.5   17.33  28.0   \n",
       "...    ...  ..  ..       ...     ...         ...    ...     ...   ...   \n",
       "2729  4272   1   1       MCI   17.00     34680.0    1.5    9.00  25.0   \n",
       "2730  4272   1   1       MCI   15.00     36882.0    1.5    8.00  25.0   \n",
       "2731  4274   1   0       MCI    9.00     25466.0    1.0    4.00  30.0   \n",
       "2732  4275   1   1        CN   10.00     44838.0    0.0    6.00  29.0   \n",
       "2733  4275   1   1        CN   10.00     46542.0    0.5    4.00  29.0   \n",
       "\n",
       "      RAVLT_immediate  Hippocampus  WholeBrain  Entorhinal  MidTemp  APOE4  \\\n",
       "0                22.0       5319.0   1129830.0      1791.0  18422.0    1.0   \n",
       "1                19.0       5446.0   1100060.0      2427.0  16972.0    1.0   \n",
       "2                31.0       5157.0   1095640.0      1596.0  17330.0    1.0   \n",
       "3                37.0       6869.0   1154980.0      3983.0  19615.0    0.0   \n",
       "4                33.0       6439.0   1116280.0      3711.0  20139.0    0.0   \n",
       "...               ...          ...         ...         ...      ...    ...   \n",
       "2729             27.0       7082.0    987579.0      3524.0  18255.0    0.0   \n",
       "2730             23.0       6592.0    969429.0      3371.0  17373.0    0.0   \n",
       "2731             43.0       9180.0   1154790.0      3354.0  22141.0    1.0   \n",
       "2732             48.0       7864.0   1230920.0      4084.0  25071.0    0.0   \n",
       "2733             50.0       8006.0   1187900.0      4358.0  24177.0    0.0   \n",
       "\n",
       "      AGE_AT_EXAM target_diagnosis  target_ADAS13  target_Ventricles  \\\n",
       "0       81.300000               AD          30.00            88580.0   \n",
       "1       81.798289               AD          35.00            90099.0   \n",
       "2       82.299316               AD          37.67            97420.0   \n",
       "3       67.500000              MCI          25.33            39726.0   \n",
       "4       67.979124              MCI          22.00            38527.0   \n",
       "...           ...              ...            ...                ...   \n",
       "2729    71.877413              MCI          15.00            36882.0   \n",
       "2730    72.416769              MCI          10.00            36237.0   \n",
       "2731    63.000000              MCI          10.00            24430.0   \n",
       "2732    72.800000               CN          10.00            46542.0   \n",
       "2733    74.294867               CN          11.00            46429.0   \n",
       "\n",
       "      encoded_diagnosis  \n",
       "0                   0.0  \n",
       "1                   0.0  \n",
       "2                   0.0  \n",
       "3                   2.0  \n",
       "4                   2.0  \n",
       "...                 ...  \n",
       "2729                2.0  \n",
       "2730                2.0  \n",
       "2731                2.0  \n",
       "2732                1.0  \n",
       "2733                1.0  \n",
       "\n",
       "[2734 rows x 20 columns]"
      ]
     },
     "execution_count": 84,
     "metadata": {},
     "output_type": "execute_result"
    }
   ],
   "source": [
    "train_df"
   ]
  },
  {
   "cell_type": "code",
   "execution_count": 89,
   "metadata": {},
   "outputs": [],
   "source": [
    "x_features_1 = ['ADAS13', 'Ventricles', 'encoded_diagnosis']\n",
    "x_features_2 = ['ADAS13', 'Ventricles', 'AGE_AT_EXAM', 'encoded_diagnosis']\n",
    "x_features_3 = ['CDRSB', 'ADAS11', 'MMSE', 'RAVLT_immediate', 'Hippocampus',\n",
    "                'WholeBrain', 'Entorhinal', 'MidTemp', 'AGE_AT_EXAM', 'encoded_diagnosis']\n",
    "\n",
    "y_features = ['target_diagnosis']\n",
    "\n",
    "train_x_1 = train_df[x_features_1]\n",
    "train_x_2 = train_df[x_features_2]\n",
    "train_x_3 = train_df[x_features_3]\n",
    "\n",
    "train_y = train_df[y_features]\n",
    "\n",
    "test_x_1 = test_df[x_features_1]\n",
    "test_x_2 = test_df[x_features_2]\n",
    "test_x_3 = test_df[x_features_3]\n",
    "\n",
    "test_y = test_df[y_features]"
   ]
  },
  {
   "cell_type": "markdown",
   "metadata": {},
   "source": [
    "### Train"
   ]
  },
  {
   "cell_type": "code",
   "execution_count": 90,
   "metadata": {
    "scrolled": false
   },
   "outputs": [
    {
     "name": "stderr",
     "output_type": "stream",
     "text": [
      "//anaconda3/envs/baylon/lib/python3.8/site-packages/sklearn/utils/validation.py:760: DataConversionWarning: A column-vector y was passed when a 1d array was expected. Please change the shape of y to (n_samples, ), for example using ravel().\n",
      "  y = column_or_1d(y, warn=True)\n",
      "//anaconda3/envs/baylon/lib/python3.8/site-packages/sklearn/utils/validation.py:760: DataConversionWarning: A column-vector y was passed when a 1d array was expected. Please change the shape of y to (n_samples, ), for example using ravel().\n",
      "  y = column_or_1d(y, warn=True)\n",
      "//anaconda3/envs/baylon/lib/python3.8/site-packages/sklearn/utils/validation.py:760: DataConversionWarning: A column-vector y was passed when a 1d array was expected. Please change the shape of y to (n_samples, ), for example using ravel().\n",
      "  y = column_or_1d(y, warn=True)\n"
     ]
    },
    {
     "data": {
      "text/plain": [
       "Pipeline(memory=None,\n",
       "         steps=[('scaler',\n",
       "                 StandardScaler(copy=True, with_mean=True, with_std=True)),\n",
       "                ('svc',\n",
       "                 SVC(C=1.0, break_ties=False, cache_size=200, class_weight=None,\n",
       "                     coef0=0.0, decision_function_shape='ovr', degree=3,\n",
       "                     gamma='scale', kernel='rbf', max_iter=-1, probability=True,\n",
       "                     random_state=42, shrinking=True, tol=0.001,\n",
       "                     verbose=False))],\n",
       "         verbose=False)"
      ]
     },
     "execution_count": 90,
     "metadata": {},
     "output_type": "execute_result"
    }
   ],
   "source": [
    "from sklearn.pipeline import Pipeline\n",
    "from sklearn.preprocessing import StandardScaler\n",
    "from sklearn.svm import SVC\n",
    "\n",
    "scaler_1 = StandardScaler()\n",
    "scaler_2 = StandardScaler()\n",
    "scaler_3 = StandardScaler()\n",
    "\n",
    "svc_1 = SVC(random_state=42, probability=True)\n",
    "svc_2 = SVC(random_state=42, probability=True)\n",
    "svc_3 = SVC(random_state=42, probability=True)\n",
    "\n",
    "scaled_svc_1 = Pipeline([\n",
    "    ('scaler', scaler_1),\n",
    "    ('svc', svc_1)\n",
    "])\n",
    "\n",
    "scaled_svc_2 = Pipeline([\n",
    "    ('scaler', scaler_2),\n",
    "    ('svc', svc_2)\n",
    "])\n",
    "\n",
    "scaled_svc_3 = Pipeline([\n",
    "    ('scaler', scaler_3),\n",
    "    ('svc', svc_3)\n",
    "])\n",
    "\n",
    "scaled_svc_1.fit(train_x_1, train_y)\n",
    "scaled_svc_2.fit(train_x_2, train_y)\n",
    "scaled_svc_3.fit(train_x_3, train_y)"
   ]
  },
  {
   "cell_type": "code",
   "execution_count": 91,
   "metadata": {},
   "outputs": [
    {
     "data": {
      "text/plain": [
       "array(['AD', 'CN', 'MCI'], dtype=object)"
      ]
     },
     "execution_count": 91,
     "metadata": {},
     "output_type": "execute_result"
    }
   ],
   "source": [
    "scaled_svc_1.classes_"
   ]
  },
  {
   "cell_type": "markdown",
   "metadata": {},
   "source": [
    "### Validation"
   ]
  },
  {
   "cell_type": "code",
   "execution_count": 92,
   "metadata": {},
   "outputs": [
    {
     "data": {
      "text/plain": [
       "(0.9536830831323386, 0.9498780192815056, 0.9594744086717615)"
      ]
     },
     "execution_count": 92,
     "metadata": {},
     "output_type": "execute_result"
    }
   ],
   "source": [
    "from sklearn.metrics import accuracy_score, roc_auc_score\n",
    "from sklearn.preprocessing import LabelBinarizer\n",
    "\n",
    "# one hot encode the target diagnosis\n",
    "lb = LabelBinarizer()\n",
    "target = lb.fit_transform(test_y)\n",
    "# lb.classes_\n",
    "\n",
    "preds_1 = scaled_svc_1.predict_proba(test_x_1)\n",
    "preds_2 = scaled_svc_2.predict_proba(test_x_2)\n",
    "preds_3 = scaled_svc_3.predict_proba(test_x_3)\n",
    "\n",
    "roc_auc_score(target, preds_1, multi_class='ovo'), roc_auc_score(target, preds_2, multi_class='ovo'), roc_auc_score(target, preds_3, multi_class='ovo')"
   ]
  },
  {
   "cell_type": "code",
   "execution_count": null,
   "metadata": {},
   "outputs": [],
   "source": []
  },
  {
   "cell_type": "code",
   "execution_count": 93,
   "metadata": {
    "scrolled": true
   },
   "outputs": [
    {
     "data": {
      "text/plain": [
       "<sklearn.metrics._plot.confusion_matrix.ConfusionMatrixDisplay at 0x1a25159460>"
      ]
     },
     "execution_count": 93,
     "metadata": {},
     "output_type": "execute_result"
    },
    {
     "data": {
      "image/png": "[encoded data removed]",
      "text/plain": [
       "<Figure size 432x288 with 2 Axes>"
      ]
     },
     "metadata": {
      "needs_background": "light"
     },
     "output_type": "display_data"
    }
   ],
   "source": [
    "from sklearn.metrics import plot_confusion_matrix\n",
    "\n",
    "plot_confusion_matrix(scaled_svc_1, test_x_1, test_y, normalize='true')"
   ]
  },
  {
   "cell_type": "markdown",
   "metadata": {},
   "source": [
    "## Predicting ADAS13"
   ]
  },
  {
   "cell_type": "code",
   "execution_count": null,
   "metadata": {},
   "outputs": [],
   "source": []
  },
  {
   "cell_type": "markdown",
   "metadata": {},
   "source": [
    "## Predicting Ventricles"
   ]
  },
  {
   "cell_type": "code",
   "execution_count": null,
   "metadata": {},
   "outputs": [],
   "source": []
  }
 ],
 "metadata": {
  "kernelspec": {
   "display_name": "babylon",
   "language": "python",
   "name": "baylon"
  },
  "language_info": {
   "codemirror_mode": {
    "name": "ipython",
    "version": 3
   },
   "file_extension": ".py",
   "mimetype": "text/x-python",
   "name": "python",
   "nbconvert_exporter": "python",
   "pygments_lexer": "ipython3",
   "version": "3.8.1"
  }
 },
 "nbformat": 4,
 "nbformat_minor": 2
}
