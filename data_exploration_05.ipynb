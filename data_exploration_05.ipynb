{
 "cells": [
  {
   "cell_type": "markdown",
   "metadata": {},
   "source": [
    "# Data Exploration 05"
   ]
  },
  {
   "cell_type": "code",
   "execution_count": null,
   "metadata": {
    "scrolled": true
   },
   "outputs": [],
   "source": [
    "import datetime\n",
    "now = datetime.datetime.now()\n",
    "print(f'Version: {now.strftime(\"%Y-%m-%d %H:%M:%S\")}')"
   ]
  },
  {
   "cell_type": "markdown",
   "metadata": {},
   "source": [
    "# Modelling"
   ]
  },
  {
   "cell_type": "code",
   "execution_count": null,
   "metadata": {},
   "outputs": [],
   "source": [
    "# import dataset\n",
    "import pandas as pd\n",
    "\n",
    "dataset = './data/dataset_benchmark.csv'\n",
    "\n",
    "df = pd.read_csv(dataset)"
   ]
  },
  {
   "cell_type": "code",
   "execution_count": null,
   "metadata": {},
   "outputs": [],
   "source": [
    "# recall the number of state changes within the total dataset\n",
    "import numpy as np\n",
    "import seaborn as sns\n",
    "\n",
    "def get_state_changes(df):\n",
    "    cond = df['diagnosis'] != df['target_diagnosis']\n",
    "    changes = (df['diagnosis'] + ' -> ' + df['target_diagnosis']).where(cond, np.nan)\n",
    "    return changes\n",
    "\n",
    "df_changes = get_state_changes(df)\n",
    "\n",
    "print(f'total n state changes: {df_changes.notna().sum()}')\n",
    "print(df_changes.value_counts())\n",
    "sns.countplot(df_changes)"
   ]
  },
  {
   "cell_type": "code",
   "execution_count": null,
   "metadata": {},
   "outputs": [],
   "source": [
    "# select featureset and import the training data\n",
    "from utils import utils\n",
    "\n",
    "# featureset = './features/features_banchmark.yaml'\n",
    "featureset = './features/features_custom_2.yaml'\n",
    "\n",
    "df, x, y, x_train, x_test, y_train, y_test = utils.load_benchmark_dataset(dataset, featureset, \n",
    "                                                                          dropna=True, only_state_changes=False)\n",
    "classes = ['CN', 'MCI', 'AD']"
   ]
  },
  {
   "cell_type": "markdown",
   "metadata": {},
   "source": [
    "# Classification"
   ]
  },
  {
   "cell_type": "code",
   "execution_count": null,
   "metadata": {},
   "outputs": [],
   "source": [
    "from sklearn.pipeline import Pipeline\n",
    "from sklearn.preprocessing import StandardScaler\n",
    "from sklearn.svm import SVC\n",
    "\n",
    "C = 1\n",
    "# C = 1000000\n",
    "\n",
    "scaled_svc = Pipeline([\n",
    "    ('scaler', StandardScaler()),\n",
    "    ('svc', SVC(C=C, class_weight='balanced',random_state=42, probability=True))\n",
    "])\n",
    "\n",
    "scaled_svc.fit(x_train, y_train)"
   ]
  },
  {
   "cell_type": "code",
   "execution_count": null,
   "metadata": {
    "scrolled": true
   },
   "outputs": [],
   "source": [
    "from sklearn.metrics import accuracy_score, roc_auc_score\n",
    "from sklearn.preprocessing import LabelBinarizer\n",
    "\n",
    "preds = scaled_svc.predict_proba(x_test)\n",
    "\n",
    "roc_auc_score(y_test, preds, multi_class='ovo')"
   ]
  },
  {
   "cell_type": "code",
   "execution_count": null,
   "metadata": {
    "scrolled": false
   },
   "outputs": [],
   "source": [
    "from yellowbrick.classifier import ROCAUC\n",
    "from yellowbrick.datasets import load_spam\n",
    "\n",
    "visualizer = ROCAUC(scaled_svc, macro=False, classes=classes)\n",
    "\n",
    "visualizer.fit(x_train, y_train)\n",
    "visualizer.score(x_test, y_test)\n",
    "visualizer.show()"
   ]
  },
  {
   "cell_type": "code",
   "execution_count": null,
   "metadata": {
    "scrolled": false
   },
   "outputs": [],
   "source": [
    "# pr statistics - compare weighted squared f1 not accuracy across models\n",
    "from yellowbrick.classifier import ClassificationReport\n",
    "\n",
    "visualizer = ClassificationReport(scaled_svc, classes=classes, support=True)\n",
    "\n",
    "visualizer.fit(x_train, y_train)        # Fit the visualizer and the model\n",
    "visualizer.score(x_test, y_test)        # Evaluate the model on the test data\n",
    "visualizer.show()"
   ]
  },
  {
   "cell_type": "code",
   "execution_count": null,
   "metadata": {
    "scrolled": false
   },
   "outputs": [],
   "source": [
    "# pr curve\n",
    "from yellowbrick.classifier import PrecisionRecallCurve\n",
    "\n",
    "visualizer = PrecisionRecallCurve(scaled_svc, classes=classes)\n",
    "\n",
    "visualizer.fit(x_train, y_train)\n",
    "visualizer.score(x_test, y_test)\n",
    "visualizer.show()"
   ]
  },
  {
   "cell_type": "code",
   "execution_count": null,
   "metadata": {},
   "outputs": [],
   "source": [
    "# look at the predictions\n",
    "from yellowbrick.classifier import ClassPredictionError\n",
    "\n",
    "# Instantiate the classification model and visualizer\n",
    "visualizer = ClassPredictionError(scaled_svc, classes=classes)\n",
    "\n",
    "visualizer.fit(x_train, y_train)\n",
    "visualizer.score(x_test, y_test)\n",
    "visualizer.show()"
   ]
  },
  {
   "cell_type": "code",
   "execution_count": null,
   "metadata": {},
   "outputs": [],
   "source": []
  },
  {
   "cell_type": "code",
   "execution_count": null,
   "metadata": {},
   "outputs": [],
   "source": []
  },
  {
   "cell_type": "code",
   "execution_count": null,
   "metadata": {},
   "outputs": [],
   "source": [
    "from yellowbrick.model_selection import RFECV\n",
    "\n",
    "# Instantiate RFECV visualizer with a linear SVM classifier\n",
    "visualizer = RFECV(SVC(kernel='linear', C=1))\n",
    "\n",
    "visualizer.fit(x_test, y_test)\n",
    "visualizer.show()"
   ]
  },
  {
   "cell_type": "markdown",
   "metadata": {},
   "source": [
    "# Regression"
   ]
  },
  {
   "cell_type": "code",
   "execution_count": null,
   "metadata": {},
   "outputs": [],
   "source": []
  },
  {
   "cell_type": "code",
   "execution_count": null,
   "metadata": {},
   "outputs": [],
   "source": [
    "from sklearn.pipeline import Pipeline\n",
    "from sklearn.preprocessing import StandardScaler\n",
    "from sklearn.svm import SVR\n",
    "\n",
    "C = 1\n",
    "# C = 1000000\n",
    "\n",
    "model = Pipeline([\n",
    "    ('scaler', StandardScaler()),\n",
    "    ('svc', SVR(C=C))\n",
    "])\n",
    "\n",
    "model.fit(x_train, y_train)"
   ]
  },
  {
   "cell_type": "code",
   "execution_count": null,
   "metadata": {},
   "outputs": [],
   "source": [
    "import seaborn as sns\n",
    "from sklearn.metrics import accuracy_score, roc_auc_score\n",
    "from sklearn.preprocessing import LabelBinarizer\n",
    "\n",
    "preds = model.predict(x_test)\n",
    "\n",
    "sns.distplot(preds)"
   ]
  },
  {
   "cell_type": "code",
   "execution_count": null,
   "metadata": {},
   "outputs": [],
   "source": [
    "from yellowbrick.regressor import ResidualsPlot\n",
    "\n",
    "visualizer = ResidualsPlot(model)\n",
    "\n",
    "visualizer.fit(x_train, y_train)\n",
    "visualizer.score(x_test, y_test)\n",
    "visualizer.show()"
   ]
  },
  {
   "cell_type": "code",
   "execution_count": null,
   "metadata": {},
   "outputs": [],
   "source": []
  },
  {
   "cell_type": "code",
   "execution_count": null,
   "metadata": {},
   "outputs": [],
   "source": []
  }
 ],
 "metadata": {
  "kernelspec": {
   "display_name": "babylon",
   "language": "python",
   "name": "babylon"
  },
  "language_info": {
   "codemirror_mode": {
    "name": "ipython",
    "version": 3
   },
   "file_extension": ".py",
   "mimetype": "text/x-python",
   "name": "python",
   "nbconvert_exporter": "python",
   "pygments_lexer": "ipython3",
   "version": "3.7.6"
  }
 },
 "nbformat": 4,
 "nbformat_minor": 2
}
