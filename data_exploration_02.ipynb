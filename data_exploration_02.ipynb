{
 "cells": [
  {
   "cell_type": "markdown",
   "metadata": {
    "slideshow": {
     "slide_type": "-"
    }
   },
   "source": [
    "# Data Exploration 02"
   ]
  },
  {
   "cell_type": "code",
   "execution_count": 1,
   "metadata": {
    "scrolled": true,
    "slideshow": {
     "slide_type": "-"
    }
   },
   "outputs": [
    {
     "name": "stdout",
     "output_type": "stream",
     "text": [
      "Version: 2020-03-24 13:11:44\n"
     ]
    }
   ],
   "source": [
    "import datetime\n",
    "now = datetime.datetime.now()\n",
    "print(f'Version: {now.strftime(\"%Y-%m-%d %H:%M:%S\")}')"
   ]
  },
  {
   "cell_type": "markdown",
   "metadata": {
    "slideshow": {
     "slide_type": "-"
    }
   },
   "source": [
    "# Standard Dataset"
   ]
  },
  {
   "cell_type": "code",
   "execution_count": 2,
   "metadata": {},
   "outputs": [],
   "source": [
    "# import\n",
    "import seaborn as sns; sns.set()\n",
    "import pandas as pd\n",
    "\n",
    "csv_path = './data/dataset_standard.csv'\n",
    "df = pd.read_csv(csv_path)"
   ]
  },
  {
   "cell_type": "code",
   "execution_count": 3,
   "metadata": {
    "scrolled": true
   },
   "outputs": [
    {
     "name": "stdout",
     "output_type": "stream",
     "text": [
      "<class 'pandas.core.frame.DataFrame'>\n",
      "RangeIndex: 12741 entries, 0 to 12740\n",
      "Columns: 1914 entries, RID to target_Ventricles\n",
      "dtypes: float64(78), int64(8), object(1828)\n",
      "memory usage: 186.1+ MB\n"
     ]
    }
   ],
   "source": [
    "# info\n",
    "df.info()"
   ]
  },
  {
   "cell_type": "code",
   "execution_count": 4,
   "metadata": {
    "scrolled": false
   },
   "outputs": [
    {
     "data": {
      "text/html": [
       "<div>\n",
       "<style scoped>\n",
       "    .dataframe tbody tr th:only-of-type {\n",
       "        vertical-align: middle;\n",
       "    }\n",
       "\n",
       "    .dataframe tbody tr th {\n",
       "        vertical-align: top;\n",
       "    }\n",
       "\n",
       "    .dataframe thead th {\n",
       "        text-align: right;\n",
       "    }\n",
       "</style>\n",
       "<table border=\"1\" class=\"dataframe\">\n",
       "  <thead>\n",
       "    <tr style=\"text-align: right;\">\n",
       "      <th></th>\n",
       "      <th>RID</th>\n",
       "      <th>PTID</th>\n",
       "      <th>VISCODE</th>\n",
       "      <th>SITE</th>\n",
       "      <th>D1</th>\n",
       "      <th>D2</th>\n",
       "      <th>COLPROT</th>\n",
       "      <th>ORIGPROT</th>\n",
       "      <th>EXAMDATE</th>\n",
       "      <th>DX_bl</th>\n",
       "      <th>...</th>\n",
       "      <th>PTAU_UPENNBIOMK9_04_19_17</th>\n",
       "      <th>COMMENT_UPENNBIOMK9_04_19_17</th>\n",
       "      <th>update_stamp_UPENNBIOMK9_04_19_17</th>\n",
       "      <th>diagnosis</th>\n",
       "      <th>AGE_AT_EXAM</th>\n",
       "      <th>prev_diagnosis</th>\n",
       "      <th>next_diagnosis</th>\n",
       "      <th>target_diagnosis</th>\n",
       "      <th>target_ADAS13</th>\n",
       "      <th>target_Ventricles</th>\n",
       "    </tr>\n",
       "  </thead>\n",
       "  <tbody>\n",
       "    <tr>\n",
       "      <th>0</th>\n",
       "      <td>2</td>\n",
       "      <td>011_S_0002</td>\n",
       "      <td>bl</td>\n",
       "      <td>11</td>\n",
       "      <td>1</td>\n",
       "      <td>1</td>\n",
       "      <td>ADNI1</td>\n",
       "      <td>ADNI1</td>\n",
       "      <td>2005-09-08</td>\n",
       "      <td>CN</td>\n",
       "      <td>...</td>\n",
       "      <td>NaN</td>\n",
       "      <td></td>\n",
       "      <td></td>\n",
       "      <td>CN</td>\n",
       "      <td>74.300000</td>\n",
       "      <td>NaN</td>\n",
       "      <td>CN</td>\n",
       "      <td>CN</td>\n",
       "      <td>19.67</td>\n",
       "      <td>NaN</td>\n",
       "    </tr>\n",
       "    <tr>\n",
       "      <th>1</th>\n",
       "      <td>2</td>\n",
       "      <td>011_S_0002</td>\n",
       "      <td>m06</td>\n",
       "      <td>11</td>\n",
       "      <td>1</td>\n",
       "      <td>1</td>\n",
       "      <td>ADNI1</td>\n",
       "      <td>ADNI1</td>\n",
       "      <td>2006-03-06</td>\n",
       "      <td>CN</td>\n",
       "      <td>...</td>\n",
       "      <td>NaN</td>\n",
       "      <td></td>\n",
       "      <td></td>\n",
       "      <td>CN</td>\n",
       "      <td>74.790075</td>\n",
       "      <td>CN</td>\n",
       "      <td>CN</td>\n",
       "      <td>CN</td>\n",
       "      <td>20.00</td>\n",
       "      <td>NaN</td>\n",
       "    </tr>\n",
       "    <tr>\n",
       "      <th>2</th>\n",
       "      <td>2</td>\n",
       "      <td>011_S_0002</td>\n",
       "      <td>m36</td>\n",
       "      <td>11</td>\n",
       "      <td>1</td>\n",
       "      <td>1</td>\n",
       "      <td>ADNI1</td>\n",
       "      <td>ADNI1</td>\n",
       "      <td>2008-08-27</td>\n",
       "      <td>CN</td>\n",
       "      <td>...</td>\n",
       "      <td>NaN</td>\n",
       "      <td></td>\n",
       "      <td></td>\n",
       "      <td>CN</td>\n",
       "      <td>77.267830</td>\n",
       "      <td>CN</td>\n",
       "      <td>CN</td>\n",
       "      <td>CN</td>\n",
       "      <td>23.00</td>\n",
       "      <td>NaN</td>\n",
       "    </tr>\n",
       "    <tr>\n",
       "      <th>3</th>\n",
       "      <td>2</td>\n",
       "      <td>011_S_0002</td>\n",
       "      <td>m60</td>\n",
       "      <td>11</td>\n",
       "      <td>1</td>\n",
       "      <td>1</td>\n",
       "      <td>ADNIGO</td>\n",
       "      <td>ADNI1</td>\n",
       "      <td>2010-09-22</td>\n",
       "      <td>CN</td>\n",
       "      <td>...</td>\n",
       "      <td>NaN</td>\n",
       "      <td></td>\n",
       "      <td></td>\n",
       "      <td>CN</td>\n",
       "      <td>79.337645</td>\n",
       "      <td>CN</td>\n",
       "      <td>NaN</td>\n",
       "      <td>CN</td>\n",
       "      <td>NaN</td>\n",
       "      <td>NaN</td>\n",
       "    </tr>\n",
       "    <tr>\n",
       "      <th>4</th>\n",
       "      <td>2</td>\n",
       "      <td>011_S_0002</td>\n",
       "      <td>m66</td>\n",
       "      <td>11</td>\n",
       "      <td>1</td>\n",
       "      <td>1</td>\n",
       "      <td>ADNIGO</td>\n",
       "      <td>ADNI1</td>\n",
       "      <td>2011-03-04</td>\n",
       "      <td>CN</td>\n",
       "      <td>...</td>\n",
       "      <td>NaN</td>\n",
       "      <td></td>\n",
       "      <td></td>\n",
       "      <td>CN</td>\n",
       "      <td>79.783915</td>\n",
       "      <td>CN</td>\n",
       "      <td>CN</td>\n",
       "      <td>CN</td>\n",
       "      <td>21.00</td>\n",
       "      <td>NaN</td>\n",
       "    </tr>\n",
       "    <tr>\n",
       "      <th>...</th>\n",
       "      <td>...</td>\n",
       "      <td>...</td>\n",
       "      <td>...</td>\n",
       "      <td>...</td>\n",
       "      <td>...</td>\n",
       "      <td>...</td>\n",
       "      <td>...</td>\n",
       "      <td>...</td>\n",
       "      <td>...</td>\n",
       "      <td>...</td>\n",
       "      <td>...</td>\n",
       "      <td>...</td>\n",
       "      <td>...</td>\n",
       "      <td>...</td>\n",
       "      <td>...</td>\n",
       "      <td>...</td>\n",
       "      <td>...</td>\n",
       "      <td>...</td>\n",
       "      <td>...</td>\n",
       "      <td>...</td>\n",
       "      <td>...</td>\n",
       "    </tr>\n",
       "    <tr>\n",
       "      <th>12736</th>\n",
       "      <td>5295</td>\n",
       "      <td>057_S_5295</td>\n",
       "      <td>bl</td>\n",
       "      <td>57</td>\n",
       "      <td>1</td>\n",
       "      <td>1</td>\n",
       "      <td>ADNI2</td>\n",
       "      <td>ADNI2</td>\n",
       "      <td>2013-12-11</td>\n",
       "      <td>SMC</td>\n",
       "      <td>...</td>\n",
       "      <td>8.53</td>\n",
       "      <td>NaN</td>\n",
       "      <td>2017-04-20 14:39:56.0</td>\n",
       "      <td>CN</td>\n",
       "      <td>75.500000</td>\n",
       "      <td>NaN</td>\n",
       "      <td>NaN</td>\n",
       "      <td>CN</td>\n",
       "      <td>NaN</td>\n",
       "      <td>NaN</td>\n",
       "    </tr>\n",
       "    <tr>\n",
       "      <th>12737</th>\n",
       "      <td>5295</td>\n",
       "      <td>057_S_5295</td>\n",
       "      <td>m03</td>\n",
       "      <td>57</td>\n",
       "      <td>1</td>\n",
       "      <td>1</td>\n",
       "      <td>ADNI2</td>\n",
       "      <td>ADNI2</td>\n",
       "      <td>2014-02-14</td>\n",
       "      <td>SMC</td>\n",
       "      <td>...</td>\n",
       "      <td>NaN</td>\n",
       "      <td></td>\n",
       "      <td></td>\n",
       "      <td>CN</td>\n",
       "      <td>75.677960</td>\n",
       "      <td>CN</td>\n",
       "      <td>CN</td>\n",
       "      <td>CN</td>\n",
       "      <td>18.00</td>\n",
       "      <td>NaN</td>\n",
       "    </tr>\n",
       "    <tr>\n",
       "      <th>12738</th>\n",
       "      <td>5295</td>\n",
       "      <td>057_S_5295</td>\n",
       "      <td>m24</td>\n",
       "      <td>57</td>\n",
       "      <td>1</td>\n",
       "      <td>1</td>\n",
       "      <td>ADNI2</td>\n",
       "      <td>ADNI2</td>\n",
       "      <td>2015-12-08</td>\n",
       "      <td>SMC</td>\n",
       "      <td>...</td>\n",
       "      <td>NaN</td>\n",
       "      <td></td>\n",
       "      <td></td>\n",
       "      <td>CN</td>\n",
       "      <td>77.490418</td>\n",
       "      <td>NaN</td>\n",
       "      <td>NaN</td>\n",
       "      <td>NaN</td>\n",
       "      <td>NaN</td>\n",
       "      <td>NaN</td>\n",
       "    </tr>\n",
       "    <tr>\n",
       "      <th>12739</th>\n",
       "      <td>5296</td>\n",
       "      <td>053_S_5296</td>\n",
       "      <td>bl</td>\n",
       "      <td>53</td>\n",
       "      <td>1</td>\n",
       "      <td>1</td>\n",
       "      <td>ADNI2</td>\n",
       "      <td>ADNI2</td>\n",
       "      <td>2013-12-18</td>\n",
       "      <td>SMC</td>\n",
       "      <td>...</td>\n",
       "      <td>20.90</td>\n",
       "      <td>NaN</td>\n",
       "      <td>2017-04-20 14:39:56.0</td>\n",
       "      <td>CN</td>\n",
       "      <td>69.300000</td>\n",
       "      <td>NaN</td>\n",
       "      <td>CN</td>\n",
       "      <td>CN</td>\n",
       "      <td>15.00</td>\n",
       "      <td>NaN</td>\n",
       "    </tr>\n",
       "    <tr>\n",
       "      <th>12740</th>\n",
       "      <td>5296</td>\n",
       "      <td>053_S_5296</td>\n",
       "      <td>m24</td>\n",
       "      <td>53</td>\n",
       "      <td>1</td>\n",
       "      <td>1</td>\n",
       "      <td>ADNI2</td>\n",
       "      <td>ADNI2</td>\n",
       "      <td>2015-12-17</td>\n",
       "      <td>SMC</td>\n",
       "      <td>...</td>\n",
       "      <td>NaN</td>\n",
       "      <td></td>\n",
       "      <td></td>\n",
       "      <td>CN</td>\n",
       "      <td>71.295893</td>\n",
       "      <td>CN</td>\n",
       "      <td>NaN</td>\n",
       "      <td>NaN</td>\n",
       "      <td>NaN</td>\n",
       "      <td>NaN</td>\n",
       "    </tr>\n",
       "  </tbody>\n",
       "</table>\n",
       "<p>12741 rows × 1914 columns</p>\n",
       "</div>"
      ],
      "text/plain": [
       "        RID        PTID VISCODE  SITE  D1  D2 COLPROT ORIGPROT    EXAMDATE  \\\n",
       "0         2  011_S_0002      bl    11   1   1   ADNI1    ADNI1  2005-09-08   \n",
       "1         2  011_S_0002     m06    11   1   1   ADNI1    ADNI1  2006-03-06   \n",
       "2         2  011_S_0002     m36    11   1   1   ADNI1    ADNI1  2008-08-27   \n",
       "3         2  011_S_0002     m60    11   1   1  ADNIGO    ADNI1  2010-09-22   \n",
       "4         2  011_S_0002     m66    11   1   1  ADNIGO    ADNI1  2011-03-04   \n",
       "...     ...         ...     ...   ...  ..  ..     ...      ...         ...   \n",
       "12736  5295  057_S_5295      bl    57   1   1   ADNI2    ADNI2  2013-12-11   \n",
       "12737  5295  057_S_5295     m03    57   1   1   ADNI2    ADNI2  2014-02-14   \n",
       "12738  5295  057_S_5295     m24    57   1   1   ADNI2    ADNI2  2015-12-08   \n",
       "12739  5296  053_S_5296      bl    53   1   1   ADNI2    ADNI2  2013-12-18   \n",
       "12740  5296  053_S_5296     m24    53   1   1   ADNI2    ADNI2  2015-12-17   \n",
       "\n",
       "      DX_bl  ...  PTAU_UPENNBIOMK9_04_19_17  COMMENT_UPENNBIOMK9_04_19_17  \\\n",
       "0        CN  ...                        NaN                                 \n",
       "1        CN  ...                        NaN                                 \n",
       "2        CN  ...                        NaN                                 \n",
       "3        CN  ...                        NaN                                 \n",
       "4        CN  ...                        NaN                                 \n",
       "...     ...  ...                        ...                           ...   \n",
       "12736   SMC  ...                       8.53                           NaN   \n",
       "12737   SMC  ...                        NaN                                 \n",
       "12738   SMC  ...                        NaN                                 \n",
       "12739   SMC  ...                      20.90                           NaN   \n",
       "12740   SMC  ...                        NaN                                 \n",
       "\n",
       "      update_stamp_UPENNBIOMK9_04_19_17  diagnosis AGE_AT_EXAM prev_diagnosis  \\\n",
       "0                                               CN   74.300000            NaN   \n",
       "1                                               CN   74.790075             CN   \n",
       "2                                               CN   77.267830             CN   \n",
       "3                                               CN   79.337645             CN   \n",
       "4                                               CN   79.783915             CN   \n",
       "...                                 ...        ...         ...            ...   \n",
       "12736             2017-04-20 14:39:56.0         CN   75.500000            NaN   \n",
       "12737                                           CN   75.677960             CN   \n",
       "12738                                           CN   77.490418            NaN   \n",
       "12739             2017-04-20 14:39:56.0         CN   69.300000            NaN   \n",
       "12740                                           CN   71.295893             CN   \n",
       "\n",
       "      next_diagnosis  target_diagnosis  target_ADAS13  target_Ventricles  \n",
       "0                 CN                CN          19.67                NaN  \n",
       "1                 CN                CN          20.00                NaN  \n",
       "2                 CN                CN          23.00                NaN  \n",
       "3                NaN                CN            NaN                NaN  \n",
       "4                 CN                CN          21.00                NaN  \n",
       "...              ...               ...            ...                ...  \n",
       "12736            NaN                CN            NaN                NaN  \n",
       "12737             CN                CN          18.00                NaN  \n",
       "12738            NaN               NaN            NaN                NaN  \n",
       "12739             CN                CN          15.00                NaN  \n",
       "12740            NaN               NaN            NaN                NaN  \n",
       "\n",
       "[12741 rows x 1914 columns]"
      ]
     },
     "execution_count": 4,
     "metadata": {},
     "output_type": "execute_result"
    }
   ],
   "source": [
    "df"
   ]
  },
  {
   "cell_type": "code",
   "execution_count": null,
   "metadata": {},
   "outputs": [],
   "source": []
  },
  {
   "cell_type": "code",
   "execution_count": null,
   "metadata": {},
   "outputs": [],
   "source": []
  },
  {
   "cell_type": "code",
   "execution_count": null,
   "metadata": {},
   "outputs": [],
   "source": []
  },
  {
   "cell_type": "code",
   "execution_count": 193,
   "metadata": {},
   "outputs": [
    {
     "data": {
      "text/html": [
       "<div>\n",
       "<style scoped>\n",
       "    .dataframe tbody tr th:only-of-type {\n",
       "        vertical-align: middle;\n",
       "    }\n",
       "\n",
       "    .dataframe tbody tr th {\n",
       "        vertical-align: top;\n",
       "    }\n",
       "\n",
       "    .dataframe thead th {\n",
       "        text-align: right;\n",
       "    }\n",
       "</style>\n",
       "<table border=\"1\" class=\"dataframe\">\n",
       "  <thead>\n",
       "    <tr style=\"text-align: right;\">\n",
       "      <th></th>\n",
       "      <th>RID</th>\n",
       "      <th>AGE_AT_EXAM</th>\n",
       "      <th>EXAMDATE</th>\n",
       "      <th>diagnosis</th>\n",
       "      <th>target_diagnosis</th>\n",
       "    </tr>\n",
       "  </thead>\n",
       "  <tbody>\n",
       "    <tr>\n",
       "      <th>0</th>\n",
       "      <td>2</td>\n",
       "      <td>74.300000</td>\n",
       "      <td>2005-09-08</td>\n",
       "      <td>CN</td>\n",
       "      <td>CN</td>\n",
       "    </tr>\n",
       "    <tr>\n",
       "      <th>1</th>\n",
       "      <td>2</td>\n",
       "      <td>74.790075</td>\n",
       "      <td>2006-03-06</td>\n",
       "      <td>CN</td>\n",
       "      <td>CN</td>\n",
       "    </tr>\n",
       "    <tr>\n",
       "      <th>2</th>\n",
       "      <td>2</td>\n",
       "      <td>77.267830</td>\n",
       "      <td>2008-08-27</td>\n",
       "      <td>CN</td>\n",
       "      <td>CN</td>\n",
       "    </tr>\n",
       "    <tr>\n",
       "      <th>3</th>\n",
       "      <td>2</td>\n",
       "      <td>79.337645</td>\n",
       "      <td>2010-09-22</td>\n",
       "      <td>CN</td>\n",
       "      <td>CN</td>\n",
       "    </tr>\n",
       "    <tr>\n",
       "      <th>4</th>\n",
       "      <td>2</td>\n",
       "      <td>79.783915</td>\n",
       "      <td>2011-03-04</td>\n",
       "      <td>CN</td>\n",
       "      <td>CN</td>\n",
       "    </tr>\n",
       "    <tr>\n",
       "      <th>...</th>\n",
       "      <td>...</td>\n",
       "      <td>...</td>\n",
       "      <td>...</td>\n",
       "      <td>...</td>\n",
       "      <td>...</td>\n",
       "    </tr>\n",
       "    <tr>\n",
       "      <th>12736</th>\n",
       "      <td>5295</td>\n",
       "      <td>75.500000</td>\n",
       "      <td>2013-12-11</td>\n",
       "      <td>CN</td>\n",
       "      <td>CN</td>\n",
       "    </tr>\n",
       "    <tr>\n",
       "      <th>12737</th>\n",
       "      <td>5295</td>\n",
       "      <td>75.677960</td>\n",
       "      <td>2014-02-14</td>\n",
       "      <td>CN</td>\n",
       "      <td>CN</td>\n",
       "    </tr>\n",
       "    <tr>\n",
       "      <th>12738</th>\n",
       "      <td>5295</td>\n",
       "      <td>77.490418</td>\n",
       "      <td>2015-12-08</td>\n",
       "      <td>CN</td>\n",
       "      <td>NaN</td>\n",
       "    </tr>\n",
       "    <tr>\n",
       "      <th>12739</th>\n",
       "      <td>5296</td>\n",
       "      <td>69.300000</td>\n",
       "      <td>2013-12-18</td>\n",
       "      <td>CN</td>\n",
       "      <td>CN</td>\n",
       "    </tr>\n",
       "    <tr>\n",
       "      <th>12740</th>\n",
       "      <td>5296</td>\n",
       "      <td>71.295893</td>\n",
       "      <td>2015-12-17</td>\n",
       "      <td>CN</td>\n",
       "      <td>NaN</td>\n",
       "    </tr>\n",
       "  </tbody>\n",
       "</table>\n",
       "<p>12741 rows × 5 columns</p>\n",
       "</div>"
      ],
      "text/plain": [
       "        RID  AGE_AT_EXAM   EXAMDATE diagnosis target_diagnosis\n",
       "0         2    74.300000 2005-09-08        CN               CN\n",
       "1         2    74.790075 2006-03-06        CN               CN\n",
       "2         2    77.267830 2008-08-27        CN               CN\n",
       "3         2    79.337645 2010-09-22        CN               CN\n",
       "4         2    79.783915 2011-03-04        CN               CN\n",
       "...     ...          ...        ...       ...              ...\n",
       "12736  5295    75.500000 2013-12-11        CN               CN\n",
       "12737  5295    75.677960 2014-02-14        CN               CN\n",
       "12738  5295    77.490418 2015-12-08        CN              NaN\n",
       "12739  5296    69.300000 2013-12-18        CN               CN\n",
       "12740  5296    71.295893 2015-12-17        CN              NaN\n",
       "\n",
       "[12741 rows x 5 columns]"
      ]
     },
     "execution_count": 193,
     "metadata": {},
     "output_type": "execute_result"
    }
   ],
   "source": [
    "# sort\n",
    "ages = df[['RID', 'AGE_AT_EXAM', 'EXAMDATE', 'diagnosis', 'target_diagnosis']]\n",
    "# ages = ages[ages['diagnosis'] != ages['target_diagnosis']].dropna()\n",
    "ages"
   ]
  },
  {
   "cell_type": "code",
   "execution_count": 194,
   "metadata": {},
   "outputs": [
    {
     "data": {
      "text/plain": [
       "<matplotlib.axes._subplots.AxesSubplot at 0x1a45b15250>"
      ]
     },
     "execution_count": 194,
     "metadata": {},
     "output_type": "execute_result"
    },
    {
     "data": {
      "image/png": "[encoded data removed]",
      "text/plain": [
       "<Figure size 432x288 with 1 Axes>"
      ]
     },
     "metadata": {},
     "output_type": "display_data"
    }
   ],
   "source": [
    "# age at exam\n",
    "sns.distplot(ages['AGE_AT_EXAM'], kde=False)"
   ]
  },
  {
   "cell_type": "code",
   "execution_count": 212,
   "metadata": {},
   "outputs": [
    {
     "data": {
      "text/plain": [
       "<matplotlib.axes._subplots.AxesSubplot at 0x1a4493d990>"
      ]
     },
     "execution_count": 212,
     "metadata": {},
     "output_type": "execute_result"
    },
    {
     "data": {
      "image/png": "[encoded data removed]",
      "text/plain": [
       "<Figure size 432x288 with 1 Axes>"
      ]
     },
     "metadata": {},
     "output_type": "display_data"
    }
   ],
   "source": [
    "# no. visits per patient\n",
    "sns.countplot(ages.groupby('RID').size(), color='b')"
   ]
  },
  {
   "cell_type": "code",
   "execution_count": 196,
   "metadata": {
    "scrolled": false
   },
   "outputs": [
    {
     "name": "stderr",
     "output_type": "stream",
     "text": [
      "/Users/max/anaconda3/envs/babylon/lib/python3.7/site-packages/ipykernel_launcher.py:2: SettingWithCopyWarning: \n",
      "A value is trying to be set on a copy of a slice from a DataFrame.\n",
      "Try using .loc[row_indexer,col_indexer] = value instead\n",
      "\n",
      "See the caveats in the documentation: https://pandas.pydata.org/pandas-docs/stable/user_guide/indexing.html#returning-a-view-versus-a-copy\n",
      "  \n"
     ]
    },
    {
     "data": {
      "text/plain": [
       "<matplotlib.axes._subplots.AxesSubplot at 0x1a462b71d0>"
      ]
     },
     "execution_count": 196,
     "metadata": {},
     "output_type": "execute_result"
    },
    {
     "data": {
      "image/png": "[encoded data removed]",
      "text/plain": [
       "<Figure size 432x288 with 1 Axes>"
      ]
     },
     "metadata": {},
     "output_type": "display_data"
    }
   ],
   "source": [
    "# visit count\n",
    "ages['visit_count'] = ages.groupby('RID').apply(lambda x: x['RID'].notna()).groupby('RID').cumsum().astype('int').values\n",
    "sns.countplot(ages['visit_count'], color='b') # essentially cumulative"
   ]
  },
  {
   "cell_type": "code",
   "execution_count": 199,
   "metadata": {
    "scrolled": false
   },
   "outputs": [
    {
     "name": "stderr",
     "output_type": "stream",
     "text": [
      "/Users/max/anaconda3/envs/babylon/lib/python3.7/site-packages/pandas/core/generic.py:5303: SettingWithCopyWarning: \n",
      "A value is trying to be set on a copy of a slice from a DataFrame.\n",
      "Try using .loc[row_indexer,col_indexer] = value instead\n",
      "\n",
      "See the caveats in the documentation: https://pandas.pydata.org/pandas-docs/stable/user_guide/indexing.html#returning-a-view-versus-a-copy\n",
      "  self[name] = value\n",
      "/Users/max/anaconda3/envs/babylon/lib/python3.7/site-packages/ipykernel_launcher.py:3: SettingWithCopyWarning: \n",
      "A value is trying to be set on a copy of a slice from a DataFrame.\n",
      "Try using .loc[row_indexer,col_indexer] = value instead\n",
      "\n",
      "See the caveats in the documentation: https://pandas.pydata.org/pandas-docs/stable/user_guide/indexing.html#returning-a-view-versus-a-copy\n",
      "  This is separate from the ipykernel package so we can avoid doing imports until\n"
     ]
    },
    {
     "data": {
      "text/plain": [
       "<matplotlib.axes._subplots.AxesSubplot at 0x1a45b2c810>"
      ]
     },
     "execution_count": 199,
     "metadata": {},
     "output_type": "execute_result"
    },
    {
     "data": {
      "image/png": "[encoded data removed]",
      "text/plain": [
       "<Figure size 432x288 with 1 Axes>"
      ]
     },
     "metadata": {},
     "output_type": "display_data"
    }
   ],
   "source": [
    "# time since first visit per patient\n",
    "ages.EXAMDATE = pd.to_datetime(ages.EXAMDATE)\n",
    "ages['t_first_visit'] = ages.groupby('RID').apply(lambda x: (x['EXAMDATE'] - x['EXAMDATE'].min()).dt.days / 365.25).values\n",
    "sns.distplot(ages['t_first_visit'], kde=False)"
   ]
  },
  {
   "cell_type": "code",
   "execution_count": 200,
   "metadata": {},
   "outputs": [
    {
     "data": {
      "text/plain": [
       "<matplotlib.axes._subplots.AxesSubplot at 0x1a4650dc90>"
      ]
     },
     "execution_count": 200,
     "metadata": {},
     "output_type": "execute_result"
    },
    {
     "data": {
      "image/png": "[encoded data removed]",
      "text/plain": [
       "<Figure size 432x288 with 1 Axes>"
      ]
     },
     "metadata": {},
     "output_type": "display_data"
    }
   ],
   "source": [
    "sns.boxenplot(ages['t_first_visit'])\n",
    "# maybe biased by the number of visits - most will only do 1"
   ]
  },
  {
   "cell_type": "code",
   "execution_count": 208,
   "metadata": {
    "scrolled": false
   },
   "outputs": [
    {
     "name": "stderr",
     "output_type": "stream",
     "text": [
      "/Users/max/anaconda3/envs/babylon/lib/python3.7/site-packages/pandas/core/indexing.py:966: SettingWithCopyWarning: \n",
      "A value is trying to be set on a copy of a slice from a DataFrame.\n",
      "Try using .loc[row_indexer,col_indexer] = value instead\n",
      "\n",
      "See the caveats in the documentation: https://pandas.pydata.org/pandas-docs/stable/user_guide/indexing.html#returning-a-view-versus-a-copy\n",
      "  self.obj[item] = s\n"
     ]
    }
   ],
   "source": [
    "# time since previous visit\n",
    "ages['t_last_visit'] = ages['t_first_visit'] - ages.groupby('RID')['t_first_visit'].shift(periods=1)"
   ]
  },
  {
   "cell_type": "code",
   "execution_count": 205,
   "metadata": {},
   "outputs": [
    {
     "data": {
      "text/plain": [
       "<matplotlib.axes._subplots.AxesSubplot at 0x1a463f5390>"
      ]
     },
     "execution_count": 205,
     "metadata": {},
     "output_type": "execute_result"
    },
    {
     "data": {
      "image/png": "[encoded data removed]",
      "text/plain": [
       "<Figure size 432x288 with 1 Axes>"
      ]
     },
     "metadata": {},
     "output_type": "display_data"
    }
   ],
   "source": [
    "sns.distplot(ages['t_last_visit'], kde=False)"
   ]
  },
  {
   "cell_type": "code",
   "execution_count": 209,
   "metadata": {},
   "outputs": [
    {
     "data": {
      "text/plain": [
       "<matplotlib.axes._subplots.AxesSubplot at 0x1a43b90dd0>"
      ]
     },
     "execution_count": 209,
     "metadata": {},
     "output_type": "execute_result"
    },
    {
     "data": {
      "image/png": "[encoded data removed]",
      "text/plain": [
       "<Figure size 432x288 with 1 Axes>"
      ]
     },
     "metadata": {},
     "output_type": "display_data"
    }
   ],
   "source": [
    "sns.boxenplot(ages['t_last_visit'])"
   ]
  },
  {
   "cell_type": "code",
   "execution_count": 197,
   "metadata": {},
   "outputs": [],
   "source": [
    "# age at exam against visit number\n",
    "# sns.relplot('AGE_AT_EXAM', 'visit_number', 'target_diagnosis', data=ages, col='diagnosis')"
   ]
  },
  {
   "cell_type": "code",
   "execution_count": 198,
   "metadata": {},
   "outputs": [],
   "source": [
    "# sns.jointplot('AGE_AT_EXAM', 'visit_number', kind='kde', data=ages)"
   ]
  },
  {
   "cell_type": "code",
   "execution_count": 201,
   "metadata": {
    "scrolled": false
   },
   "outputs": [],
   "source": [
    "# sns.jointplot('t_from_first_exam', 'visit_number', data=ages)"
   ]
  },
  {
   "cell_type": "code",
   "execution_count": 202,
   "metadata": {},
   "outputs": [],
   "source": [
    "# sns.relplot('t_from_first_exam', 'visit_number', 'state_change', col='target_diagnosis', data=ages)"
   ]
  },
  {
   "cell_type": "code",
   "execution_count": null,
   "metadata": {},
   "outputs": [],
   "source": []
  },
  {
   "cell_type": "code",
   "execution_count": 237,
   "metadata": {},
   "outputs": [
    {
     "name": "stdout",
     "output_type": "stream",
     "text": [
      "<class 'pandas.core.frame.DataFrame'>\n",
      "RangeIndex: 12741 entries, 0 to 12740\n",
      "Data columns (total 3 columns):\n",
      " #   Column            Non-Null Count  Dtype \n",
      "---  ------            --------------  ----- \n",
      " 0   RID               12741 non-null  int64 \n",
      " 1   diagnosis         11744 non-null  object\n",
      " 2   target_diagnosis  10014 non-null  object\n",
      "dtypes: int64(1), object(2)\n",
      "memory usage: 298.7+ KB\n"
     ]
    }
   ],
   "source": [
    "# select diagnoses\n",
    "diagnoses = df[['RID', 'diagnosis', 'target_diagnosis']]\n",
    "diagnoses.info()"
   ]
  },
  {
   "cell_type": "code",
   "execution_count": 238,
   "metadata": {
    "scrolled": true
   },
   "outputs": [
    {
     "data": {
      "text/plain": [
       "RID                 0.000000\n",
       "diagnosis           0.078251\n",
       "target_diagnosis    0.214033\n",
       "dtype: float64"
      ]
     },
     "execution_count": 238,
     "metadata": {},
     "output_type": "execute_result"
    }
   ],
   "source": [
    "# fraction of diagnoses is NaN\n",
    "diagnoses.isna().sum() / len(diagnoses)"
   ]
  },
  {
   "cell_type": "code",
   "execution_count": 239,
   "metadata": {
    "scrolled": true
   },
   "outputs": [
    {
     "name": "stdout",
     "output_type": "stream",
     "text": [
      "n previous equals next: 7464\n",
      "n next not equals target: 2727\n"
     ]
    },
    {
     "name": "stderr",
     "output_type": "stream",
     "text": [
      "/Users/max/anaconda3/envs/babylon/lib/python3.7/site-packages/ipykernel_launcher.py:2: SettingWithCopyWarning: \n",
      "A value is trying to be set on a copy of a slice from a DataFrame.\n",
      "Try using .loc[row_indexer,col_indexer] = value instead\n",
      "\n",
      "See the caveats in the documentation: https://pandas.pydata.org/pandas-docs/stable/user_guide/indexing.html#returning-a-view-versus-a-copy\n",
      "  \n",
      "/Users/max/anaconda3/envs/babylon/lib/python3.7/site-packages/ipykernel_launcher.py:3: SettingWithCopyWarning: \n",
      "A value is trying to be set on a copy of a slice from a DataFrame.\n",
      "Try using .loc[row_indexer,col_indexer] = value instead\n",
      "\n",
      "See the caveats in the documentation: https://pandas.pydata.org/pandas-docs/stable/user_guide/indexing.html#returning-a-view-versus-a-copy\n",
      "  This is separate from the ipykernel package so we can avoid doing imports until\n"
     ]
    }
   ],
   "source": [
    "# add the prev and next diagnoses\n",
    "diagnoses['prev_diagnosis'] = diagnoses.groupby('RID')['diagnosis'].shift(periods=1)\n",
    "diagnoses['next_diagnosis'] = diagnoses.groupby('RID')['diagnosis'].shift(periods=-1)\n",
    "\n",
    "cond1 = diagnoses['prev_diagnosis'] == diagnoses['next_diagnosis']\n",
    "cond2 = diagnoses['next_diagnosis'] != diagnoses['target_diagnosis']\n",
    "\n",
    "print(f'n previous equals next: {cond1.sum()}')\n",
    "print(f'n next not equals target: {cond2.sum()}')"
   ]
  },
  {
   "cell_type": "code",
   "execution_count": 240,
   "metadata": {
    "scrolled": false
   },
   "outputs": [
    {
     "name": "stdout",
     "output_type": "stream",
     "text": [
      "<class 'pandas.core.frame.DataFrame'>\n",
      "Int64Index: 7464 entries, 1 to 12737\n",
      "Data columns (total 5 columns):\n",
      " #   Column            Non-Null Count  Dtype \n",
      "---  ------            --------------  ----- \n",
      " 0   RID               7464 non-null   int64 \n",
      " 1   diagnosis         7464 non-null   object\n",
      " 2   target_diagnosis  7464 non-null   object\n",
      " 3   prev_diagnosis    7464 non-null   object\n",
      " 4   next_diagnosis    7464 non-null   object\n",
      "dtypes: int64(1), object(4)\n",
      "memory usage: 349.9+ KB\n"
     ]
    }
   ],
   "source": [
    "# this dataset has imputation of diagnosis as standard - can we impute more? - nope, no NaNs in diagnosis\n",
    "diagnoses[cond1].info()"
   ]
  },
  {
   "cell_type": "code",
   "execution_count": 241,
   "metadata": {},
   "outputs": [
    {
     "data": {
      "text/html": [
       "<div>\n",
       "<style scoped>\n",
       "    .dataframe tbody tr th:only-of-type {\n",
       "        vertical-align: middle;\n",
       "    }\n",
       "\n",
       "    .dataframe tbody tr th {\n",
       "        vertical-align: top;\n",
       "    }\n",
       "\n",
       "    .dataframe thead th {\n",
       "        text-align: right;\n",
       "    }\n",
       "</style>\n",
       "<table border=\"1\" class=\"dataframe\">\n",
       "  <thead>\n",
       "    <tr style=\"text-align: right;\">\n",
       "      <th></th>\n",
       "      <th>RID</th>\n",
       "      <th>diagnosis</th>\n",
       "      <th>target_diagnosis</th>\n",
       "      <th>prev_diagnosis</th>\n",
       "      <th>next_diagnosis</th>\n",
       "    </tr>\n",
       "  </thead>\n",
       "  <tbody>\n",
       "    <tr>\n",
       "      <th>5</th>\n",
       "      <td>2</td>\n",
       "      <td>CN</td>\n",
       "      <td>NaN</td>\n",
       "      <td>CN</td>\n",
       "      <td>NaN</td>\n",
       "    </tr>\n",
       "    <tr>\n",
       "      <th>7</th>\n",
       "      <td>2</td>\n",
       "      <td>MCI</td>\n",
       "      <td>NaN</td>\n",
       "      <td>NaN</td>\n",
       "      <td>NaN</td>\n",
       "    </tr>\n",
       "    <tr>\n",
       "      <th>9</th>\n",
       "      <td>2</td>\n",
       "      <td>CN</td>\n",
       "      <td>NaN</td>\n",
       "      <td>NaN</td>\n",
       "      <td>NaN</td>\n",
       "    </tr>\n",
       "    <tr>\n",
       "      <th>10</th>\n",
       "      <td>2</td>\n",
       "      <td>NaN</td>\n",
       "      <td>NaN</td>\n",
       "      <td>CN</td>\n",
       "      <td>NaN</td>\n",
       "    </tr>\n",
       "    <tr>\n",
       "      <th>12</th>\n",
       "      <td>2</td>\n",
       "      <td>CN</td>\n",
       "      <td>NaN</td>\n",
       "      <td>NaN</td>\n",
       "      <td>NaN</td>\n",
       "    </tr>\n",
       "    <tr>\n",
       "      <th>...</th>\n",
       "      <td>...</td>\n",
       "      <td>...</td>\n",
       "      <td>...</td>\n",
       "      <td>...</td>\n",
       "      <td>...</td>\n",
       "    </tr>\n",
       "    <tr>\n",
       "      <th>12730</th>\n",
       "      <td>5290</td>\n",
       "      <td>CN</td>\n",
       "      <td>NaN</td>\n",
       "      <td>CN</td>\n",
       "      <td>NaN</td>\n",
       "    </tr>\n",
       "    <tr>\n",
       "      <th>12733</th>\n",
       "      <td>5292</td>\n",
       "      <td>CN</td>\n",
       "      <td>NaN</td>\n",
       "      <td>CN</td>\n",
       "      <td>NaN</td>\n",
       "    </tr>\n",
       "    <tr>\n",
       "      <th>12735</th>\n",
       "      <td>5294</td>\n",
       "      <td>CN</td>\n",
       "      <td>NaN</td>\n",
       "      <td>CN</td>\n",
       "      <td>NaN</td>\n",
       "    </tr>\n",
       "    <tr>\n",
       "      <th>12738</th>\n",
       "      <td>5295</td>\n",
       "      <td>CN</td>\n",
       "      <td>NaN</td>\n",
       "      <td>CN</td>\n",
       "      <td>NaN</td>\n",
       "    </tr>\n",
       "    <tr>\n",
       "      <th>12740</th>\n",
       "      <td>5296</td>\n",
       "      <td>CN</td>\n",
       "      <td>NaN</td>\n",
       "      <td>CN</td>\n",
       "      <td>NaN</td>\n",
       "    </tr>\n",
       "  </tbody>\n",
       "</table>\n",
       "<p>2727 rows × 5 columns</p>\n",
       "</div>"
      ],
      "text/plain": [
       "        RID diagnosis target_diagnosis prev_diagnosis next_diagnosis\n",
       "5         2        CN              NaN             CN            NaN\n",
       "7         2       MCI              NaN            NaN            NaN\n",
       "9         2        CN              NaN            NaN            NaN\n",
       "10        2       NaN              NaN             CN            NaN\n",
       "12        2        CN              NaN            NaN            NaN\n",
       "...     ...       ...              ...            ...            ...\n",
       "12730  5290        CN              NaN             CN            NaN\n",
       "12733  5292        CN              NaN             CN            NaN\n",
       "12735  5294        CN              NaN             CN            NaN\n",
       "12738  5295        CN              NaN             CN            NaN\n",
       "12740  5296        CN              NaN             CN            NaN\n",
       "\n",
       "[2727 rows x 5 columns]"
      ]
     },
     "execution_count": 241,
     "metadata": {},
     "output_type": "execute_result"
    }
   ],
   "source": [
    "# lets have a look at where the next != target - look the same\n",
    "diagnoses[cond2]"
   ]
  },
  {
   "cell_type": "code",
   "execution_count": 242,
   "metadata": {
    "scrolled": true
   },
   "outputs": [
    {
     "name": "stdout",
     "output_type": "stream",
     "text": [
      "<class 'pandas.core.frame.DataFrame'>\n",
      "Int64Index: 2727 entries, 5 to 12740\n",
      "Data columns (total 5 columns):\n",
      " #   Column            Non-Null Count  Dtype \n",
      "---  ------            --------------  ----- \n",
      " 0   RID               2727 non-null   int64 \n",
      " 1   diagnosis         2011 non-null   object\n",
      " 2   target_diagnosis  0 non-null      object\n",
      " 3   prev_diagnosis    2285 non-null   object\n",
      " 4   next_diagnosis    0 non-null      object\n",
      "dtypes: int64(1), object(4)\n",
      "memory usage: 127.8+ KB\n"
     ]
    }
   ],
   "source": [
    "# are they just both null? - ok, they're all null; can any more be imputed?\n",
    "temp = diagnoses[cond2]\n",
    "temp.info()"
   ]
  },
  {
   "cell_type": "code",
   "execution_count": 248,
   "metadata": {
    "scrolled": false
   },
   "outputs": [
    {
     "data": {
      "text/plain": [
       "<matplotlib.axes._subplots.AxesSubplot at 0x1a49ef9110>"
      ]
     },
     "execution_count": 248,
     "metadata": {},
     "output_type": "execute_result"
    },
    {
     "data": {
      "image/png": "[encoded data removed]",
      "text/plain": [
       "<Figure size 432x288 with 1 Axes>"
      ]
     },
     "metadata": {},
     "output_type": "display_data"
    }
   ],
   "source": [
    "# diagnosis\n",
    "sns.countplot(diagnoses['diagnosis'])"
   ]
  },
  {
   "cell_type": "code",
   "execution_count": 249,
   "metadata": {
    "scrolled": false
   },
   "outputs": [
    {
     "data": {
      "text/plain": [
       "<matplotlib.axes._subplots.AxesSubplot at 0x1a49f6dcd0>"
      ]
     },
     "execution_count": 249,
     "metadata": {},
     "output_type": "execute_result"
    },
    {
     "data": {
      "image/png": "[encoded data removed]",
      "text/plain": [
       "<Figure size 432x288 with 1 Axes>"
      ]
     },
     "metadata": {},
     "output_type": "display_data"
    }
   ],
   "source": [
    "# target diagnosis\n",
    "sns.countplot(diagnoses['target_diagnosis'])"
   ]
  },
  {
   "cell_type": "code",
   "execution_count": 265,
   "metadata": {},
   "outputs": [],
   "source": [
    "# query to select only non NaN state changes\n",
    "query = 'diagnosis != target_diagnosis & diagnosis == diagnosis & target_diagnosis == target_diagnosis'"
   ]
  },
  {
   "cell_type": "code",
   "execution_count": 266,
   "metadata": {},
   "outputs": [
    {
     "data": {
      "text/plain": [
       "<matplotlib.axes._subplots.AxesSubplot at 0x1a4a14d490>"
      ]
     },
     "execution_count": 266,
     "metadata": {},
     "output_type": "execute_result"
    },
    {
     "data": {
      "image/png": "[encoded data removed]",
      "text/plain": [
       "<Figure size 432x288 with 1 Axes>"
      ]
     },
     "metadata": {},
     "output_type": "display_data"
    }
   ],
   "source": [
    "sns.countplot(diagnoses.query(query)['diagnosis'])"
   ]
  },
  {
   "cell_type": "code",
   "execution_count": 267,
   "metadata": {
    "scrolled": true
   },
   "outputs": [
    {
     "data": {
      "text/plain": [
       "<matplotlib.axes._subplots.AxesSubplot at 0x1a4a164950>"
      ]
     },
     "execution_count": 267,
     "metadata": {},
     "output_type": "execute_result"
    },
    {
     "data": {
      "image/png": "[encoded data removed]",
      "text/plain": [
       "<Figure size 432x288 with 1 Axes>"
      ]
     },
     "metadata": {},
     "output_type": "display_data"
    }
   ],
   "source": [
    "sns.countplot(diagnoses.query(query)['target_diagnosis'])"
   ]
  },
  {
   "cell_type": "code",
   "execution_count": 305,
   "metadata": {},
   "outputs": [
    {
     "name": "stderr",
     "output_type": "stream",
     "text": [
      "/Users/max/anaconda3/envs/babylon/lib/python3.7/site-packages/ipykernel_launcher.py:4: SettingWithCopyWarning: \n",
      "A value is trying to be set on a copy of a slice from a DataFrame.\n",
      "Try using .loc[row_indexer,col_indexer] = value instead\n",
      "\n",
      "See the caveats in the documentation: https://pandas.pydata.org/pandas-docs/stable/user_guide/indexing.html#returning-a-view-versus-a-copy\n",
      "  after removing the cwd from sys.path.\n"
     ]
    }
   ],
   "source": [
    "# \n",
    "import numpy as np\n",
    "cond = diagnoses['diagnosis'] != diagnoses['target_diagnosis']\n",
    "diagnoses['change'] = (diagnoses['diagnosis'] + ' -> ' + diagnoses['target_diagnosis']).where(cond, np.nan)"
   ]
  },
  {
   "cell_type": "code",
   "execution_count": 304,
   "metadata": {},
   "outputs": [
    {
     "name": "stdout",
     "output_type": "stream",
     "text": [
      "MCI -> AD    212\n",
      "MCI -> CN     46\n",
      "CN -> MCI     39\n",
      "AD -> MCI     11\n",
      "CN -> AD       1\n",
      "Name: change, dtype: int64\n"
     ]
    },
    {
     "data": {
      "text/plain": [
       "<matplotlib.axes._subplots.AxesSubplot at 0x1a4b01f810>"
      ]
     },
     "execution_count": 304,
     "metadata": {},
     "output_type": "execute_result"
    },
    {
     "data": {
      "image/png": "[encoded data removed]",
      "text/plain": [
       "<Figure size 432x288 with 1 Axes>"
      ]
     },
     "metadata": {},
     "output_type": "display_data"
    }
   ],
   "source": [
    "# \n",
    "print(diagnoses['change'].value_counts())\n",
    "sns.countplot(diagnoses['change'])"
   ]
  },
  {
   "cell_type": "code",
   "execution_count": null,
   "metadata": {},
   "outputs": [],
   "source": []
  },
  {
   "cell_type": "code",
   "execution_count": 221,
   "metadata": {},
   "outputs": [],
   "source": [
    "# drop NaN to evaluate state changes\n",
    "diagnoses = diagnoses.dropna(subset=['diagnosis', 'target_diagnosis'])"
   ]
  },
  {
   "cell_type": "code",
   "execution_count": 307,
   "metadata": {},
   "outputs": [
    {
     "name": "stdout",
     "output_type": "stream",
     "text": [
      "state changes: 309\n",
      "state changes as frac of dataset: 0.024252413468330587\n"
     ]
    }
   ],
   "source": [
    "# n state changes\n",
    "n_state_changes = (diagnoses.query(query)['diagnosis'] != diagnoses.query(query)['target_diagnosis']).sum()\n",
    "\n",
    "print(f'state changes: {n_state_changes}')\n",
    "print(f'state changes as frac of dataset: {n_state_changes / len(diagnoses)}')"
   ]
  },
  {
   "cell_type": "code",
   "execution_count": 313,
   "metadata": {
    "scrolled": false
   },
   "outputs": [
    {
     "data": {
      "text/plain": [
       "<matplotlib.axes._subplots.AxesSubplot at 0x1a4ad73c90>"
      ]
     },
     "execution_count": 313,
     "metadata": {},
     "output_type": "execute_result"
    },
    {
     "data": {
      "image/png": "[encoded data removed]",
      "text/plain": [
       "<Figure size 432x288 with 1 Axes>"
      ]
     },
     "metadata": {},
     "output_type": "display_data"
    }
   ],
   "source": [
    "# no. state changes per patient\n",
    "n_state_changes_per_patient = diagnoses.query('diagnosis == diagnosis & target_diagnosis == target_diagnosis').groupby('RID').apply(lambda x: x['diagnosis'] != x['target_diagnosis']).astype('int').groupby('RID').sum()\n",
    "sns.countplot(n_state_changes_per_patient)"
   ]
  },
  {
   "cell_type": "code",
   "execution_count": 317,
   "metadata": {
    "scrolled": false
   },
   "outputs": [
    {
     "name": "stdout",
     "output_type": "stream",
     "text": [
      "0    8553\n",
      "1    1157\n",
      "2      23\n",
      "Name: state_change_count, dtype: int64\n"
     ]
    },
    {
     "name": "stderr",
     "output_type": "stream",
     "text": [
      "/Users/max/anaconda3/envs/babylon/lib/python3.7/site-packages/ipykernel_launcher.py:3: SettingWithCopyWarning: \n",
      "A value is trying to be set on a copy of a slice from a DataFrame.\n",
      "Try using .loc[row_indexer,col_indexer] = value instead\n",
      "\n",
      "See the caveats in the documentation: https://pandas.pydata.org/pandas-docs/stable/user_guide/indexing.html#returning-a-view-versus-a-copy\n",
      "  This is separate from the ipykernel package so we can avoid doing imports until\n"
     ]
    },
    {
     "data": {
      "text/plain": [
       "<matplotlib.axes._subplots.AxesSubplot at 0x1a4b19b9d0>"
      ]
     },
     "execution_count": 317,
     "metadata": {},
     "output_type": "execute_result"
    },
    {
     "data": {
      "image/png": "[encoded data removed]",
      "text/plain": [
       "<Figure size 432x288 with 1 Axes>"
      ]
     },
     "metadata": {},
     "output_type": "display_data"
    }
   ],
   "source": [
    "# state change count\n",
    "with_state_changes = diagnoses.query('diagnosis == diagnosis & target_diagnosis == target_diagnosis')\n",
    "with_state_changes['state_change_count'] = with_state_changes.groupby('RID').apply(lambda x: x['diagnosis'] != x['target_diagnosis']).groupby('RID').cumsum().astype('int').values\n",
    "print(with_state_changes['state_change_count'].value_counts())\n",
    "sns.countplot(with_state_changes['state_change_count'], color='b') # essentially cumulative\n"
   ]
  },
  {
   "cell_type": "code",
   "execution_count": null,
   "metadata": {},
   "outputs": [],
   "source": [
    "# look at distribution of state changes wrt other features)\n"
   ]
  },
  {
   "cell_type": "code",
   "execution_count": null,
   "metadata": {},
   "outputs": [],
   "source": []
  },
  {
   "cell_type": "code",
   "execution_count": null,
   "metadata": {},
   "outputs": [],
   "source": []
  },
  {
   "cell_type": "code",
   "execution_count": null,
   "metadata": {},
   "outputs": [],
   "source": []
  },
  {
   "cell_type": "markdown",
   "metadata": {},
   "source": []
  },
  {
   "cell_type": "code",
   "execution_count": null,
   "metadata": {},
   "outputs": [],
   "source": [
    "# PET / CSF indicator features"
   ]
  },
  {
   "cell_type": "code",
   "execution_count": 353,
   "metadata": {},
   "outputs": [],
   "source": [
    "# pet: [FDG, AV45]\n",
    "pet_features = ['FDG', 'AV45']\n",
    "indicators = []\n",
    "for feature in pet_features:\n",
    "    indicators.append(f'indicator_{feature}')\n",
    "    df[f'indicator_{feature}'] = df[feature].notna().astype(int)"
   ]
  },
  {
   "cell_type": "code",
   "execution_count": 354,
   "metadata": {},
   "outputs": [],
   "source": [
    "# csf: [ABETA_UPENNBIOMK9_04_19_17, TAU_UPENNBIOMK9_04_19_17, PTAU_UPENNBIOMK9_04_19_17]\n",
    "csf_features = ['ABETA_UPENNBIOMK9_04_19_17', 'TAU_UPENNBIOMK9_04_19_17', 'PTAU_UPENNBIOMK9_04_19_17']\n",
    "for feature in csf_features:\n",
    "    indicators.append(f'indicator_{feature}')\n",
    "    df[f'indicator_{feature}'] = df[feature].notna().astype(int)"
   ]
  },
  {
   "cell_type": "code",
   "execution_count": 355,
   "metadata": {
    "scrolled": true
   },
   "outputs": [
    {
     "data": {
      "text/html": [
       "<div>\n",
       "<style scoped>\n",
       "    .dataframe tbody tr th:only-of-type {\n",
       "        vertical-align: middle;\n",
       "    }\n",
       "\n",
       "    .dataframe tbody tr th {\n",
       "        vertical-align: top;\n",
       "    }\n",
       "\n",
       "    .dataframe thead th {\n",
       "        text-align: right;\n",
       "    }\n",
       "</style>\n",
       "<table border=\"1\" class=\"dataframe\">\n",
       "  <thead>\n",
       "    <tr style=\"text-align: right;\">\n",
       "      <th></th>\n",
       "      <th>RID</th>\n",
       "      <th>diagnosis</th>\n",
       "      <th>target_diagnosis</th>\n",
       "      <th>indicator_FDG</th>\n",
       "      <th>indicator_AV45</th>\n",
       "      <th>indicator_ABETA_UPENNBIOMK9_04_19_17</th>\n",
       "      <th>indicator_TAU_UPENNBIOMK9_04_19_17</th>\n",
       "      <th>indicator_PTAU_UPENNBIOMK9_04_19_17</th>\n",
       "    </tr>\n",
       "  </thead>\n",
       "  <tbody>\n",
       "    <tr>\n",
       "      <th>0</th>\n",
       "      <td>2</td>\n",
       "      <td>CN</td>\n",
       "      <td>CN</td>\n",
       "      <td>1</td>\n",
       "      <td>0</td>\n",
       "      <td>0</td>\n",
       "      <td>0</td>\n",
       "      <td>0</td>\n",
       "    </tr>\n",
       "    <tr>\n",
       "      <th>1</th>\n",
       "      <td>2</td>\n",
       "      <td>CN</td>\n",
       "      <td>CN</td>\n",
       "      <td>1</td>\n",
       "      <td>0</td>\n",
       "      <td>0</td>\n",
       "      <td>0</td>\n",
       "      <td>0</td>\n",
       "    </tr>\n",
       "    <tr>\n",
       "      <th>2</th>\n",
       "      <td>2</td>\n",
       "      <td>CN</td>\n",
       "      <td>CN</td>\n",
       "      <td>0</td>\n",
       "      <td>0</td>\n",
       "      <td>0</td>\n",
       "      <td>0</td>\n",
       "      <td>0</td>\n",
       "    </tr>\n",
       "    <tr>\n",
       "      <th>3</th>\n",
       "      <td>2</td>\n",
       "      <td>CN</td>\n",
       "      <td>CN</td>\n",
       "      <td>0</td>\n",
       "      <td>0</td>\n",
       "      <td>0</td>\n",
       "      <td>0</td>\n",
       "      <td>0</td>\n",
       "    </tr>\n",
       "    <tr>\n",
       "      <th>4</th>\n",
       "      <td>2</td>\n",
       "      <td>CN</td>\n",
       "      <td>CN</td>\n",
       "      <td>0</td>\n",
       "      <td>0</td>\n",
       "      <td>0</td>\n",
       "      <td>0</td>\n",
       "      <td>0</td>\n",
       "    </tr>\n",
       "    <tr>\n",
       "      <th>...</th>\n",
       "      <td>...</td>\n",
       "      <td>...</td>\n",
       "      <td>...</td>\n",
       "      <td>...</td>\n",
       "      <td>...</td>\n",
       "      <td>...</td>\n",
       "      <td>...</td>\n",
       "      <td>...</td>\n",
       "    </tr>\n",
       "    <tr>\n",
       "      <th>12732</th>\n",
       "      <td>5292</td>\n",
       "      <td>CN</td>\n",
       "      <td>CN</td>\n",
       "      <td>0</td>\n",
       "      <td>0</td>\n",
       "      <td>0</td>\n",
       "      <td>0</td>\n",
       "      <td>0</td>\n",
       "    </tr>\n",
       "    <tr>\n",
       "      <th>12734</th>\n",
       "      <td>5294</td>\n",
       "      <td>CN</td>\n",
       "      <td>CN</td>\n",
       "      <td>1</td>\n",
       "      <td>0</td>\n",
       "      <td>0</td>\n",
       "      <td>0</td>\n",
       "      <td>0</td>\n",
       "    </tr>\n",
       "    <tr>\n",
       "      <th>12736</th>\n",
       "      <td>5295</td>\n",
       "      <td>CN</td>\n",
       "      <td>CN</td>\n",
       "      <td>1</td>\n",
       "      <td>1</td>\n",
       "      <td>1</td>\n",
       "      <td>1</td>\n",
       "      <td>1</td>\n",
       "    </tr>\n",
       "    <tr>\n",
       "      <th>12737</th>\n",
       "      <td>5295</td>\n",
       "      <td>CN</td>\n",
       "      <td>CN</td>\n",
       "      <td>0</td>\n",
       "      <td>0</td>\n",
       "      <td>0</td>\n",
       "      <td>0</td>\n",
       "      <td>0</td>\n",
       "    </tr>\n",
       "    <tr>\n",
       "      <th>12739</th>\n",
       "      <td>5296</td>\n",
       "      <td>CN</td>\n",
       "      <td>CN</td>\n",
       "      <td>1</td>\n",
       "      <td>1</td>\n",
       "      <td>1</td>\n",
       "      <td>1</td>\n",
       "      <td>1</td>\n",
       "    </tr>\n",
       "  </tbody>\n",
       "</table>\n",
       "<p>9733 rows × 8 columns</p>\n",
       "</div>"
      ],
      "text/plain": [
       "        RID diagnosis target_diagnosis  indicator_FDG  indicator_AV45  \\\n",
       "0         2        CN               CN              1               0   \n",
       "1         2        CN               CN              1               0   \n",
       "2         2        CN               CN              0               0   \n",
       "3         2        CN               CN              0               0   \n",
       "4         2        CN               CN              0               0   \n",
       "...     ...       ...              ...            ...             ...   \n",
       "12732  5292        CN               CN              0               0   \n",
       "12734  5294        CN               CN              1               0   \n",
       "12736  5295        CN               CN              1               1   \n",
       "12737  5295        CN               CN              0               0   \n",
       "12739  5296        CN               CN              1               1   \n",
       "\n",
       "       indicator_ABETA_UPENNBIOMK9_04_19_17  \\\n",
       "0                                         0   \n",
       "1                                         0   \n",
       "2                                         0   \n",
       "3                                         0   \n",
       "4                                         0   \n",
       "...                                     ...   \n",
       "12732                                     0   \n",
       "12734                                     0   \n",
       "12736                                     1   \n",
       "12737                                     0   \n",
       "12739                                     1   \n",
       "\n",
       "       indicator_TAU_UPENNBIOMK9_04_19_17  indicator_PTAU_UPENNBIOMK9_04_19_17  \n",
       "0                                       0                                    0  \n",
       "1                                       0                                    0  \n",
       "2                                       0                                    0  \n",
       "3                                       0                                    0  \n",
       "4                                       0                                    0  \n",
       "...                                   ...                                  ...  \n",
       "12732                                   0                                    0  \n",
       "12734                                   0                                    0  \n",
       "12736                                   1                                    1  \n",
       "12737                                   0                                    0  \n",
       "12739                                   1                                    1  \n",
       "\n",
       "[9733 rows x 8 columns]"
      ]
     },
     "execution_count": 355,
     "metadata": {},
     "output_type": "execute_result"
    }
   ],
   "source": [
    "test_df = df[['RID', 'diagnosis', 'target_diagnosis'] + indicators]\n",
    "test_df = test_df.dropna()\n",
    "test_df"
   ]
  },
  {
   "cell_type": "code",
   "execution_count": 356,
   "metadata": {},
   "outputs": [
    {
     "data": {
      "image/png": "[encoded data removed]",
      "text/plain": [
       "<Figure size 432x288 with 1 Axes>"
      ]
     },
     "metadata": {},
     "output_type": "display_data"
    },
    {
     "data": {
      "image/png": "[encoded data removed]",
      "text/plain": [
       "<Figure size 432x288 with 1 Axes>"
      ]
     },
     "metadata": {},
     "output_type": "display_data"
    },
    {
     "data": {
      "image/png": "[encoded data removed]",
      "text/plain": [
       "<Figure size 432x288 with 1 Axes>"
      ]
     },
     "metadata": {},
     "output_type": "display_data"
    },
    {
     "data": {
      "image/png": "[encoded data removed]",
      "text/plain": [
       "<Figure size 432x288 with 1 Axes>"
      ]
     },
     "metadata": {},
     "output_type": "display_data"
    },
    {
     "data": {
      "image/png": "[encoded data removed]",
      "text/plain": [
       "<Figure size 432x288 with 1 Axes>"
      ]
     },
     "metadata": {},
     "output_type": "display_data"
    }
   ],
   "source": [
    "import matplotlib.pyplot as plt\n",
    "\n",
    "for feature in indicators:\n",
    "    sns.countplot(test_df[feature])\n",
    "    plt.show()"
   ]
  },
  {
   "cell_type": "code",
   "execution_count": 357,
   "metadata": {
    "scrolled": true
   },
   "outputs": [
    {
     "name": "stdout",
     "output_type": "stream",
     "text": [
      "<class 'pandas.core.frame.DataFrame'>\n",
      "Int64Index: 9733 entries, 0 to 12739\n",
      "Data columns (total 5 columns):\n",
      " #   Column                                Non-Null Count  Dtype\n",
      "---  ------                                --------------  -----\n",
      " 0   indicator_FDG                         9733 non-null   int64\n",
      " 1   indicator_AV45                        9733 non-null   int64\n",
      " 2   indicator_ABETA_UPENNBIOMK9_04_19_17  9733 non-null   int64\n",
      " 3   indicator_TAU_UPENNBIOMK9_04_19_17    9733 non-null   int64\n",
      " 4   indicator_PTAU_UPENNBIOMK9_04_19_17   9733 non-null   int64\n",
      "dtypes: int64(5)\n",
      "memory usage: 776.2 KB\n"
     ]
    }
   ],
   "source": [
    "test_df[indicators]"
   ]
  },
  {
   "cell_type": "code",
   "execution_count": null,
   "metadata": {},
   "outputs": [],
   "source": [
    "# distribution of PET indicator features"
   ]
  },
  {
   "cell_type": "code",
   "execution_count": null,
   "metadata": {},
   "outputs": [],
   "source": [
    "# distribution of CSF indicator features"
   ]
  },
  {
   "cell_type": "code",
   "execution_count": null,
   "metadata": {},
   "outputs": [],
   "source": [
    "# make a temporary dataset\n",
    "\n"
   ]
  }
 ],
 "metadata": {
  "celltoolbar": "Slideshow",
  "kernelspec": {
   "display_name": "babylon",
   "language": "python",
   "name": "babylon"
  },
  "language_info": {
   "codemirror_mode": {
    "name": "ipython",
    "version": 3
   },
   "file_extension": ".py",
   "mimetype": "text/x-python",
   "name": "python",
   "nbconvert_exporter": "python",
   "pygments_lexer": "ipython3",
   "version": "3.7.6"
  }
 },
 "nbformat": 4,
 "nbformat_minor": 2
}
