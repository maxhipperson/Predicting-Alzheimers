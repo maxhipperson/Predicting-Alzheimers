{
 "cells": [
  {
   "cell_type": "markdown",
   "metadata": {
    "slideshow": {
     "slide_type": "-"
    }
   },
   "source": [
    "# Preliminary Data Exploration"
   ]
  },
  {
   "cell_type": "code",
   "execution_count": 1,
   "metadata": {
    "scrolled": true,
    "slideshow": {
     "slide_type": "-"
    }
   },
   "outputs": [
    {
     "name": "stdout",
     "output_type": "stream",
     "text": [
      "Version: 2020-03-03 15:07:52\n"
     ]
    }
   ],
   "source": [
    "import datetime\n",
    "now = datetime.datetime.now()\n",
    "print(f'Version: {now.strftime(\"%Y-%m-%d %H:%M:%S\")}')"
   ]
  },
  {
   "cell_type": "markdown",
   "metadata": {
    "slideshow": {
     "slide_type": "-"
    }
   },
   "source": [
    "# Data Exploration"
   ]
  },
  {
   "cell_type": "code",
   "execution_count": 13,
   "metadata": {
    "scrolled": false,
    "slideshow": {
     "slide_type": "-"
    }
   },
   "outputs": [
    {
     "data": {
      "text/html": [
       "<div>\n",
       "<style scoped>\n",
       "    .dataframe tbody tr th:only-of-type {\n",
       "        vertical-align: middle;\n",
       "    }\n",
       "\n",
       "    .dataframe tbody tr th {\n",
       "        vertical-align: top;\n",
       "    }\n",
       "\n",
       "    .dataframe thead th {\n",
       "        text-align: right;\n",
       "    }\n",
       "</style>\n",
       "<table border=\"1\" class=\"dataframe\">\n",
       "  <thead>\n",
       "    <tr style=\"text-align: right;\">\n",
       "      <th></th>\n",
       "      <th>RID</th>\n",
       "      <th>PTID</th>\n",
       "      <th>VISCODE</th>\n",
       "      <th>SITE</th>\n",
       "      <th>D1</th>\n",
       "      <th>D2</th>\n",
       "      <th>COLPROT</th>\n",
       "      <th>ORIGPROT</th>\n",
       "      <th>EXAMDATE</th>\n",
       "      <th>DX_bl</th>\n",
       "      <th>...</th>\n",
       "      <th>ABETA_UPENNBIOMK9_04_19_17</th>\n",
       "      <th>TAU_UPENNBIOMK9_04_19_17</th>\n",
       "      <th>PTAU_UPENNBIOMK9_04_19_17</th>\n",
       "      <th>COMMENT_UPENNBIOMK9_04_19_17</th>\n",
       "      <th>update_stamp_UPENNBIOMK9_04_19_17</th>\n",
       "      <th>diagnosis</th>\n",
       "      <th>AGE_AT_EXAM</th>\n",
       "      <th>target_diagnosis</th>\n",
       "      <th>target_ADAS13</th>\n",
       "      <th>target_Ventricles</th>\n",
       "    </tr>\n",
       "  </thead>\n",
       "  <tbody>\n",
       "    <tr>\n",
       "      <th>0</th>\n",
       "      <td>2</td>\n",
       "      <td>011_S_0002</td>\n",
       "      <td>bl</td>\n",
       "      <td>11</td>\n",
       "      <td>1</td>\n",
       "      <td>1</td>\n",
       "      <td>ADNI1</td>\n",
       "      <td>ADNI1</td>\n",
       "      <td>2005-09-08</td>\n",
       "      <td>CN</td>\n",
       "      <td>...</td>\n",
       "      <td>NaN</td>\n",
       "      <td>NaN</td>\n",
       "      <td>NaN</td>\n",
       "      <td></td>\n",
       "      <td></td>\n",
       "      <td>CN</td>\n",
       "      <td>74.300000</td>\n",
       "      <td>CN</td>\n",
       "      <td>19.67</td>\n",
       "      <td>NaN</td>\n",
       "    </tr>\n",
       "    <tr>\n",
       "      <th>1</th>\n",
       "      <td>2</td>\n",
       "      <td>011_S_0002</td>\n",
       "      <td>m06</td>\n",
       "      <td>11</td>\n",
       "      <td>1</td>\n",
       "      <td>1</td>\n",
       "      <td>ADNI1</td>\n",
       "      <td>ADNI1</td>\n",
       "      <td>2006-03-06</td>\n",
       "      <td>CN</td>\n",
       "      <td>...</td>\n",
       "      <td>NaN</td>\n",
       "      <td>NaN</td>\n",
       "      <td>NaN</td>\n",
       "      <td></td>\n",
       "      <td></td>\n",
       "      <td>CN</td>\n",
       "      <td>74.790075</td>\n",
       "      <td>CN</td>\n",
       "      <td>20.00</td>\n",
       "      <td>NaN</td>\n",
       "    </tr>\n",
       "    <tr>\n",
       "      <th>2</th>\n",
       "      <td>2</td>\n",
       "      <td>011_S_0002</td>\n",
       "      <td>m36</td>\n",
       "      <td>11</td>\n",
       "      <td>1</td>\n",
       "      <td>1</td>\n",
       "      <td>ADNI1</td>\n",
       "      <td>ADNI1</td>\n",
       "      <td>2008-08-27</td>\n",
       "      <td>CN</td>\n",
       "      <td>...</td>\n",
       "      <td>NaN</td>\n",
       "      <td>NaN</td>\n",
       "      <td>NaN</td>\n",
       "      <td></td>\n",
       "      <td></td>\n",
       "      <td>CN</td>\n",
       "      <td>77.267830</td>\n",
       "      <td>CN</td>\n",
       "      <td>23.00</td>\n",
       "      <td>NaN</td>\n",
       "    </tr>\n",
       "    <tr>\n",
       "      <th>3</th>\n",
       "      <td>2</td>\n",
       "      <td>011_S_0002</td>\n",
       "      <td>m60</td>\n",
       "      <td>11</td>\n",
       "      <td>1</td>\n",
       "      <td>1</td>\n",
       "      <td>ADNIGO</td>\n",
       "      <td>ADNI1</td>\n",
       "      <td>2010-09-22</td>\n",
       "      <td>CN</td>\n",
       "      <td>...</td>\n",
       "      <td>NaN</td>\n",
       "      <td>NaN</td>\n",
       "      <td>NaN</td>\n",
       "      <td></td>\n",
       "      <td></td>\n",
       "      <td>CN</td>\n",
       "      <td>79.337645</td>\n",
       "      <td>NaN</td>\n",
       "      <td>NaN</td>\n",
       "      <td>NaN</td>\n",
       "    </tr>\n",
       "    <tr>\n",
       "      <th>4</th>\n",
       "      <td>2</td>\n",
       "      <td>011_S_0002</td>\n",
       "      <td>m66</td>\n",
       "      <td>11</td>\n",
       "      <td>1</td>\n",
       "      <td>1</td>\n",
       "      <td>ADNIGO</td>\n",
       "      <td>ADNI1</td>\n",
       "      <td>2011-03-04</td>\n",
       "      <td>CN</td>\n",
       "      <td>...</td>\n",
       "      <td>NaN</td>\n",
       "      <td>NaN</td>\n",
       "      <td>NaN</td>\n",
       "      <td></td>\n",
       "      <td></td>\n",
       "      <td>NaN</td>\n",
       "      <td>79.783915</td>\n",
       "      <td>CN</td>\n",
       "      <td>21.00</td>\n",
       "      <td>NaN</td>\n",
       "    </tr>\n",
       "    <tr>\n",
       "      <th>...</th>\n",
       "      <td>...</td>\n",
       "      <td>...</td>\n",
       "      <td>...</td>\n",
       "      <td>...</td>\n",
       "      <td>...</td>\n",
       "      <td>...</td>\n",
       "      <td>...</td>\n",
       "      <td>...</td>\n",
       "      <td>...</td>\n",
       "      <td>...</td>\n",
       "      <td>...</td>\n",
       "      <td>...</td>\n",
       "      <td>...</td>\n",
       "      <td>...</td>\n",
       "      <td>...</td>\n",
       "      <td>...</td>\n",
       "      <td>...</td>\n",
       "      <td>...</td>\n",
       "      <td>...</td>\n",
       "      <td>...</td>\n",
       "      <td>...</td>\n",
       "    </tr>\n",
       "    <tr>\n",
       "      <th>12736</th>\n",
       "      <td>5295</td>\n",
       "      <td>057_S_5295</td>\n",
       "      <td>bl</td>\n",
       "      <td>57</td>\n",
       "      <td>1</td>\n",
       "      <td>1</td>\n",
       "      <td>ADNI2</td>\n",
       "      <td>ADNI2</td>\n",
       "      <td>2013-12-11</td>\n",
       "      <td>SMC</td>\n",
       "      <td>...</td>\n",
       "      <td>416.8</td>\n",
       "      <td>88.69</td>\n",
       "      <td>8.53</td>\n",
       "      <td>NaN</td>\n",
       "      <td>2017-04-20 14:39:56.0</td>\n",
       "      <td>CN</td>\n",
       "      <td>75.500000</td>\n",
       "      <td>NaN</td>\n",
       "      <td>NaN</td>\n",
       "      <td>NaN</td>\n",
       "    </tr>\n",
       "    <tr>\n",
       "      <th>12737</th>\n",
       "      <td>5295</td>\n",
       "      <td>057_S_5295</td>\n",
       "      <td>m03</td>\n",
       "      <td>57</td>\n",
       "      <td>1</td>\n",
       "      <td>1</td>\n",
       "      <td>ADNI2</td>\n",
       "      <td>ADNI2</td>\n",
       "      <td>2014-02-14</td>\n",
       "      <td>SMC</td>\n",
       "      <td>...</td>\n",
       "      <td>NaN</td>\n",
       "      <td>NaN</td>\n",
       "      <td>NaN</td>\n",
       "      <td></td>\n",
       "      <td></td>\n",
       "      <td>NaN</td>\n",
       "      <td>75.677960</td>\n",
       "      <td>CN</td>\n",
       "      <td>18.00</td>\n",
       "      <td>NaN</td>\n",
       "    </tr>\n",
       "    <tr>\n",
       "      <th>12738</th>\n",
       "      <td>5295</td>\n",
       "      <td>057_S_5295</td>\n",
       "      <td>m24</td>\n",
       "      <td>57</td>\n",
       "      <td>1</td>\n",
       "      <td>1</td>\n",
       "      <td>ADNI2</td>\n",
       "      <td>ADNI2</td>\n",
       "      <td>2015-12-08</td>\n",
       "      <td>SMC</td>\n",
       "      <td>...</td>\n",
       "      <td>NaN</td>\n",
       "      <td>NaN</td>\n",
       "      <td>NaN</td>\n",
       "      <td></td>\n",
       "      <td></td>\n",
       "      <td>CN</td>\n",
       "      <td>77.490418</td>\n",
       "      <td>NaN</td>\n",
       "      <td>NaN</td>\n",
       "      <td>NaN</td>\n",
       "    </tr>\n",
       "    <tr>\n",
       "      <th>12739</th>\n",
       "      <td>5296</td>\n",
       "      <td>053_S_5296</td>\n",
       "      <td>bl</td>\n",
       "      <td>53</td>\n",
       "      <td>1</td>\n",
       "      <td>1</td>\n",
       "      <td>ADNI2</td>\n",
       "      <td>ADNI2</td>\n",
       "      <td>2013-12-18</td>\n",
       "      <td>SMC</td>\n",
       "      <td>...</td>\n",
       "      <td>1460.0</td>\n",
       "      <td>224.90</td>\n",
       "      <td>20.90</td>\n",
       "      <td>NaN</td>\n",
       "      <td>2017-04-20 14:39:56.0</td>\n",
       "      <td>CN</td>\n",
       "      <td>69.300000</td>\n",
       "      <td>CN</td>\n",
       "      <td>15.00</td>\n",
       "      <td>NaN</td>\n",
       "    </tr>\n",
       "    <tr>\n",
       "      <th>12740</th>\n",
       "      <td>5296</td>\n",
       "      <td>053_S_5296</td>\n",
       "      <td>m24</td>\n",
       "      <td>53</td>\n",
       "      <td>1</td>\n",
       "      <td>1</td>\n",
       "      <td>ADNI2</td>\n",
       "      <td>ADNI2</td>\n",
       "      <td>2015-12-17</td>\n",
       "      <td>SMC</td>\n",
       "      <td>...</td>\n",
       "      <td>NaN</td>\n",
       "      <td>NaN</td>\n",
       "      <td>NaN</td>\n",
       "      <td></td>\n",
       "      <td></td>\n",
       "      <td>CN</td>\n",
       "      <td>71.295893</td>\n",
       "      <td>NaN</td>\n",
       "      <td>NaN</td>\n",
       "      <td>NaN</td>\n",
       "    </tr>\n",
       "  </tbody>\n",
       "</table>\n",
       "<p>12741 rows × 1912 columns</p>\n",
       "</div>"
      ],
      "text/plain": [
       "        RID        PTID VISCODE  SITE  D1  D2 COLPROT ORIGPROT    EXAMDATE  \\\n",
       "0         2  011_S_0002      bl    11   1   1   ADNI1    ADNI1  2005-09-08   \n",
       "1         2  011_S_0002     m06    11   1   1   ADNI1    ADNI1  2006-03-06   \n",
       "2         2  011_S_0002     m36    11   1   1   ADNI1    ADNI1  2008-08-27   \n",
       "3         2  011_S_0002     m60    11   1   1  ADNIGO    ADNI1  2010-09-22   \n",
       "4         2  011_S_0002     m66    11   1   1  ADNIGO    ADNI1  2011-03-04   \n",
       "...     ...         ...     ...   ...  ..  ..     ...      ...         ...   \n",
       "12736  5295  057_S_5295      bl    57   1   1   ADNI2    ADNI2  2013-12-11   \n",
       "12737  5295  057_S_5295     m03    57   1   1   ADNI2    ADNI2  2014-02-14   \n",
       "12738  5295  057_S_5295     m24    57   1   1   ADNI2    ADNI2  2015-12-08   \n",
       "12739  5296  053_S_5296      bl    53   1   1   ADNI2    ADNI2  2013-12-18   \n",
       "12740  5296  053_S_5296     m24    53   1   1   ADNI2    ADNI2  2015-12-17   \n",
       "\n",
       "      DX_bl  ...  ABETA_UPENNBIOMK9_04_19_17  TAU_UPENNBIOMK9_04_19_17  \\\n",
       "0        CN  ...                         NaN                       NaN   \n",
       "1        CN  ...                         NaN                       NaN   \n",
       "2        CN  ...                         NaN                       NaN   \n",
       "3        CN  ...                         NaN                       NaN   \n",
       "4        CN  ...                         NaN                       NaN   \n",
       "...     ...  ...                         ...                       ...   \n",
       "12736   SMC  ...                       416.8                     88.69   \n",
       "12737   SMC  ...                         NaN                       NaN   \n",
       "12738   SMC  ...                         NaN                       NaN   \n",
       "12739   SMC  ...                      1460.0                    224.90   \n",
       "12740   SMC  ...                         NaN                       NaN   \n",
       "\n",
       "      PTAU_UPENNBIOMK9_04_19_17  COMMENT_UPENNBIOMK9_04_19_17  \\\n",
       "0                           NaN                                 \n",
       "1                           NaN                                 \n",
       "2                           NaN                                 \n",
       "3                           NaN                                 \n",
       "4                           NaN                                 \n",
       "...                         ...                           ...   \n",
       "12736                      8.53                           NaN   \n",
       "12737                       NaN                                 \n",
       "12738                       NaN                                 \n",
       "12739                     20.90                           NaN   \n",
       "12740                       NaN                                 \n",
       "\n",
       "      update_stamp_UPENNBIOMK9_04_19_17 diagnosis AGE_AT_EXAM  \\\n",
       "0                                              CN   74.300000   \n",
       "1                                              CN   74.790075   \n",
       "2                                              CN   77.267830   \n",
       "3                                              CN   79.337645   \n",
       "4                                             NaN   79.783915   \n",
       "...                                 ...       ...         ...   \n",
       "12736             2017-04-20 14:39:56.0        CN   75.500000   \n",
       "12737                                         NaN   75.677960   \n",
       "12738                                          CN   77.490418   \n",
       "12739             2017-04-20 14:39:56.0        CN   69.300000   \n",
       "12740                                          CN   71.295893   \n",
       "\n",
       "       target_diagnosis  target_ADAS13  target_Ventricles  \n",
       "0                    CN          19.67                NaN  \n",
       "1                    CN          20.00                NaN  \n",
       "2                    CN          23.00                NaN  \n",
       "3                   NaN            NaN                NaN  \n",
       "4                    CN          21.00                NaN  \n",
       "...                 ...            ...                ...  \n",
       "12736               NaN            NaN                NaN  \n",
       "12737                CN          18.00                NaN  \n",
       "12738               NaN            NaN                NaN  \n",
       "12739                CN          15.00                NaN  \n",
       "12740               NaN            NaN                NaN  \n",
       "\n",
       "[12741 rows x 1912 columns]"
      ]
     },
     "execution_count": 13,
     "metadata": {},
     "output_type": "execute_result"
    }
   ],
   "source": [
    "import matplotlib.pyplot as plt\n",
    "import pandas as pd\n",
    "import os\n",
    "\n",
    "csv_path = './data/preprocessed_d1d2.csv'\n",
    "df = pd.read_csv(csv_path)\n",
    "df"
   ]
  },
  {
   "cell_type": "code",
   "execution_count": 3,
   "metadata": {
    "scrolled": false,
    "slideshow": {
     "slide_type": "-"
    }
   },
   "outputs": [
    {
     "name": "stdout",
     "output_type": "stream",
     "text": [
      "<class 'pandas.core.frame.DataFrame'>\n",
      "RangeIndex: 12741 entries, 0 to 12740\n",
      "Columns: 1912 entries, RID to target_Ventricles\n",
      "dtypes: float64(78), int64(8), object(1826)\n",
      "memory usage: 185.9+ MB\n"
     ]
    }
   ],
   "source": [
    "df.info()"
   ]
  },
  {
   "cell_type": "code",
   "execution_count": 4,
   "metadata": {
    "scrolled": false
   },
   "outputs": [
    {
     "data": {
      "text/plain": [
       "0        74.300000\n",
       "1        74.790075\n",
       "2        77.267830\n",
       "3        79.337645\n",
       "4        79.783915\n",
       "           ...    \n",
       "12736    75.500000\n",
       "12737    75.677960\n",
       "12738    77.490418\n",
       "12739    69.300000\n",
       "12740    71.295893\n",
       "Name: AGE_AT_EXAM, Length: 12741, dtype: float64"
      ]
     },
     "execution_count": 4,
     "metadata": {},
     "output_type": "execute_result"
    }
   ],
   "source": [
    "df['AGE_AT_EXAM']"
   ]
  },
  {
   "cell_type": "code",
   "execution_count": 5,
   "metadata": {
    "scrolled": true
   },
   "outputs": [
    {
     "data": {
      "text/plain": [
       "<matplotlib.axes._subplots.AxesSubplot at 0x130ca62b0>"
      ]
     },
     "execution_count": 5,
     "metadata": {},
     "output_type": "execute_result"
    },
    {
     "data": {
      "image/png": "[encoded data removed]",
      "text/plain": [
       "<Figure size 432x288 with 1 Axes>"
      ]
     },
     "metadata": {
      "needs_background": "light"
     },
     "output_type": "display_data"
    }
   ],
   "source": [
    "# visits per patient\n",
    "df.groupby('RID').size().hist()"
   ]
  },
  {
   "cell_type": "code",
   "execution_count": 6,
   "metadata": {},
   "outputs": [
    {
     "name": "stdout",
     "output_type": "stream",
     "text": [
      "length of subset: 7174\n",
      "state changes: 3456\n",
      "state changes as frac of full dataset: 0.27125029432540615\n",
      "state changes as frac of subset: 0.48173961527739056\n"
     ]
    }
   ],
   "source": [
    "# n state changes\n",
    "df_01 = df.dropna(subset=['target_diagnosis'])\n",
    "n_state_changes = (df_01['diagnosis'] != df_01['target_diagnosis']).sum()\n",
    "\n",
    "print(f'length of subset: {len(df_01)}')\n",
    "print(f'state changes: {n_state_changes}')\n",
    "print(f'state changes as frac of full dataset: {n_state_changes / len(df)}')\n",
    "print(f'state changes as frac of subset: {n_state_changes / len(df_01)}')"
   ]
  },
  {
   "cell_type": "code",
   "execution_count": 7,
   "metadata": {
    "scrolled": false
   },
   "outputs": [
    {
     "data": {
      "text/plain": [
       "<matplotlib.axes._subplots.AxesSubplot at 0x11d8578b0>"
      ]
     },
     "execution_count": 7,
     "metadata": {},
     "output_type": "execute_result"
    },
    {
     "data": {
      "image/png": "[encoded data removed]",
      "text/plain": [
       "<Figure size 432x288 with 1 Axes>"
      ]
     },
     "metadata": {
      "needs_background": "light"
     },
     "output_type": "display_data"
    }
   ],
   "source": [
    "# state changes per patient\n",
    "df_01.groupby('RID').apply(lambda x: x['diagnosis'] != x['target_diagnosis']).groupby('RID').sum().hist()"
   ]
  },
  {
   "cell_type": "markdown",
   "metadata": {},
   "source": [
    "Hang on... how can there be more than 2 state changes per patient?"
   ]
  },
  {
   "cell_type": "code",
   "execution_count": 8,
   "metadata": {},
   "outputs": [
    {
     "data": {
      "text/plain": [
       "0     False\n",
       "1     False\n",
       "2     False\n",
       "4      True\n",
       "6      True\n",
       "8      True\n",
       "11     True\n",
       "dtype: bool"
      ]
     },
     "execution_count": 8,
     "metadata": {},
     "output_type": "execute_result"
    }
   ],
   "source": [
    "# view changes per patient for patient with RID 2\n",
    "changes_per_patient = df_01.groupby('RID').apply(lambda x: x['diagnosis'] != x['target_diagnosis'])\n",
    "changes_per_patient[2]"
   ]
  },
  {
   "cell_type": "code",
   "execution_count": 187,
   "metadata": {
    "scrolled": false
   },
   "outputs": [
    {
     "data": {
      "text/html": [
       "<div>\n",
       "<style scoped>\n",
       "    .dataframe tbody tr th:only-of-type {\n",
       "        vertical-align: middle;\n",
       "    }\n",
       "\n",
       "    .dataframe tbody tr th {\n",
       "        vertical-align: top;\n",
       "    }\n",
       "\n",
       "    .dataframe thead th {\n",
       "        text-align: right;\n",
       "    }\n",
       "</style>\n",
       "<table border=\"1\" class=\"dataframe\">\n",
       "  <thead>\n",
       "    <tr style=\"text-align: right;\">\n",
       "      <th></th>\n",
       "      <th>EXAMDATE</th>\n",
       "      <th>DX_bl</th>\n",
       "      <th>DX</th>\n",
       "      <th>diagnosis</th>\n",
       "      <th>target_diagnosis</th>\n",
       "    </tr>\n",
       "  </thead>\n",
       "  <tbody>\n",
       "    <tr>\n",
       "      <th>0</th>\n",
       "      <td>2005-09-08</td>\n",
       "      <td>CN</td>\n",
       "      <td>NL</td>\n",
       "      <td>CN</td>\n",
       "      <td>CN</td>\n",
       "    </tr>\n",
       "    <tr>\n",
       "      <th>1</th>\n",
       "      <td>2006-03-06</td>\n",
       "      <td>CN</td>\n",
       "      <td>NL</td>\n",
       "      <td>CN</td>\n",
       "      <td>CN</td>\n",
       "    </tr>\n",
       "    <tr>\n",
       "      <th>2</th>\n",
       "      <td>2008-08-27</td>\n",
       "      <td>CN</td>\n",
       "      <td>NL</td>\n",
       "      <td>CN</td>\n",
       "      <td>CN</td>\n",
       "    </tr>\n",
       "    <tr>\n",
       "      <th>4</th>\n",
       "      <td>2011-03-04</td>\n",
       "      <td>CN</td>\n",
       "      <td>NaN</td>\n",
       "      <td>NaN</td>\n",
       "      <td>CN</td>\n",
       "    </tr>\n",
       "    <tr>\n",
       "      <th>6</th>\n",
       "      <td>2012-03-22</td>\n",
       "      <td>CN</td>\n",
       "      <td>NaN</td>\n",
       "      <td>NaN</td>\n",
       "      <td>MCI</td>\n",
       "    </tr>\n",
       "    <tr>\n",
       "      <th>8</th>\n",
       "      <td>2013-03-25</td>\n",
       "      <td>CN</td>\n",
       "      <td>NaN</td>\n",
       "      <td>NaN</td>\n",
       "      <td>CN</td>\n",
       "    </tr>\n",
       "    <tr>\n",
       "      <th>11</th>\n",
       "      <td>2014-10-13</td>\n",
       "      <td>CN</td>\n",
       "      <td>NaN</td>\n",
       "      <td>NaN</td>\n",
       "      <td>CN</td>\n",
       "    </tr>\n",
       "  </tbody>\n",
       "</table>\n",
       "</div>"
      ],
      "text/plain": [
       "      EXAMDATE DX_bl   DX diagnosis target_diagnosis\n",
       "0   2005-09-08    CN   NL        CN               CN\n",
       "1   2006-03-06    CN   NL        CN               CN\n",
       "2   2008-08-27    CN   NL        CN               CN\n",
       "4   2011-03-04    CN  NaN       NaN               CN\n",
       "6   2012-03-22    CN  NaN       NaN              MCI\n",
       "8   2013-03-25    CN  NaN       NaN               CN\n",
       "11  2014-10-13    CN  NaN       NaN               CN"
      ]
     },
     "execution_count": 187,
     "metadata": {},
     "output_type": "execute_result"
    }
   ],
   "source": [
    "# view patient with RID 2\n",
    "df_01[temp_df['RID'] == 2][['EXAMDATE', 'DX_bl', 'DX', 'diagnosis', 'target_diagnosis']]"
   ]
  },
  {
   "cell_type": "markdown",
   "metadata": {},
   "source": [
    "Oh... theres a load of Nans in the original diagnosis!\n",
    "\n",
    "So what if we drop the NaNs in diagnosis as well?"
   ]
  },
  {
   "cell_type": "code",
   "execution_count": 188,
   "metadata": {
    "scrolled": true
   },
   "outputs": [
    {
     "name": "stdout",
     "output_type": "stream",
     "text": [
      "length of subset: 4053\n",
      "state changes: 335\n",
      "state changes as frac of full dataset: 0.026293069617769407\n",
      "state changes as frac of subset: 0.08265482358746608\n"
     ]
    }
   ],
   "source": [
    "# n state changes\n",
    "df_02 = df.dropna(subset=['diagnosis', 'target_diagnosis']) # drop both this time\n",
    "n_state_changes = (df_02['diagnosis'] != df_02['target_diagnosis']).sum()\n",
    "\n",
    "print(f'length of subset: {len(df_02)}')\n",
    "print(f'state changes: {n_state_changes}')\n",
    "print(f'state changes as frac of full dataset: {n_state_changes / len(df)}')\n",
    "print(f'state changes as frac of subset: {n_state_changes / len(df_02)}')"
   ]
  },
  {
   "cell_type": "code",
   "execution_count": 189,
   "metadata": {
    "scrolled": true
   },
   "outputs": [
    {
     "data": {
      "text/plain": [
       "<matplotlib.axes._subplots.AxesSubplot at 0x13dc77be0>"
      ]
     },
     "execution_count": 189,
     "metadata": {},
     "output_type": "execute_result"
    },
    {
     "data": {
      "image/png": "[encoded data removed]",
      "text/plain": [
       "<Figure size 432x288 with 1 Axes>"
      ]
     },
     "metadata": {
      "needs_background": "light"
     },
     "output_type": "display_data"
    }
   ],
   "source": [
    "# state changes per patient\n",
    "df_02.groupby('RID').apply(lambda x: x['diagnosis'] != x['target_diagnosis']).groupby('RID').sum().hist()"
   ]
  },
  {
   "cell_type": "markdown",
   "metadata": {},
   "source": [
    "This looks a bit better I guess..."
   ]
  },
  {
   "cell_type": "code",
   "execution_count": 190,
   "metadata": {},
   "outputs": [
    {
     "data": {
      "text/plain": [
       "0    False\n",
       "1    False\n",
       "2    False\n",
       "dtype: bool"
      ]
     },
     "execution_count": 190,
     "metadata": {},
     "output_type": "execute_result"
    }
   ],
   "source": [
    "# view changes per patient for patient with RID 2\n",
    "changes_per_patient = df_02.groupby('RID').apply(lambda x: x['diagnosis'] != x['target_diagnosis'])\n",
    "changes_per_patient[2]"
   ]
  },
  {
   "cell_type": "code",
   "execution_count": 191,
   "metadata": {},
   "outputs": [
    {
     "data": {
      "text/html": [
       "<div>\n",
       "<style scoped>\n",
       "    .dataframe tbody tr th:only-of-type {\n",
       "        vertical-align: middle;\n",
       "    }\n",
       "\n",
       "    .dataframe tbody tr th {\n",
       "        vertical-align: top;\n",
       "    }\n",
       "\n",
       "    .dataframe thead th {\n",
       "        text-align: right;\n",
       "    }\n",
       "</style>\n",
       "<table border=\"1\" class=\"dataframe\">\n",
       "  <thead>\n",
       "    <tr style=\"text-align: right;\">\n",
       "      <th></th>\n",
       "      <th>EXAMDATE</th>\n",
       "      <th>DX_bl</th>\n",
       "      <th>DX</th>\n",
       "      <th>diagnosis</th>\n",
       "      <th>target_diagnosis</th>\n",
       "    </tr>\n",
       "  </thead>\n",
       "  <tbody>\n",
       "    <tr>\n",
       "      <th>0</th>\n",
       "      <td>2005-09-08</td>\n",
       "      <td>CN</td>\n",
       "      <td>NL</td>\n",
       "      <td>CN</td>\n",
       "      <td>CN</td>\n",
       "    </tr>\n",
       "    <tr>\n",
       "      <th>1</th>\n",
       "      <td>2006-03-06</td>\n",
       "      <td>CN</td>\n",
       "      <td>NL</td>\n",
       "      <td>CN</td>\n",
       "      <td>CN</td>\n",
       "    </tr>\n",
       "    <tr>\n",
       "      <th>2</th>\n",
       "      <td>2008-08-27</td>\n",
       "      <td>CN</td>\n",
       "      <td>NL</td>\n",
       "      <td>CN</td>\n",
       "      <td>CN</td>\n",
       "    </tr>\n",
       "  </tbody>\n",
       "</table>\n",
       "</div>"
      ],
      "text/plain": [
       "     EXAMDATE DX_bl  DX diagnosis target_diagnosis\n",
       "0  2005-09-08    CN  NL        CN               CN\n",
       "1  2006-03-06    CN  NL        CN               CN\n",
       "2  2008-08-27    CN  NL        CN               CN"
      ]
     },
     "execution_count": 191,
     "metadata": {},
     "output_type": "execute_result"
    }
   ],
   "source": [
    "# view patient with RID 2\n",
    "df_02[temp_df_02['RID'] == 2][['EXAMDATE', 'DX_bl', 'DX', 'diagnosis', 'target_diagnosis']]"
   ]
  },
  {
   "cell_type": "markdown",
   "metadata": {},
   "source": [
    "But now theres so few state changes.\n",
    "\n",
    "If between visits the diagnosis doesn't change, but theres a NaN, can we fill it?"
   ]
  },
  {
   "cell_type": "code",
   "execution_count": 20,
   "metadata": {},
   "outputs": [
    {
     "data": {
      "text/html": [
       "<div>\n",
       "<style scoped>\n",
       "    .dataframe tbody tr th:only-of-type {\n",
       "        vertical-align: middle;\n",
       "    }\n",
       "\n",
       "    .dataframe tbody tr th {\n",
       "        vertical-align: top;\n",
       "    }\n",
       "\n",
       "    .dataframe thead th {\n",
       "        text-align: right;\n",
       "    }\n",
       "</style>\n",
       "<table border=\"1\" class=\"dataframe\">\n",
       "  <thead>\n",
       "    <tr style=\"text-align: right;\">\n",
       "      <th></th>\n",
       "      <th>RID</th>\n",
       "      <th>AGE_AT_EXAM</th>\n",
       "      <th>DX_bl</th>\n",
       "      <th>DX</th>\n",
       "      <th>diagnosis</th>\n",
       "      <th>target_diagnosis</th>\n",
       "    </tr>\n",
       "  </thead>\n",
       "  <tbody>\n",
       "    <tr>\n",
       "      <th>0</th>\n",
       "      <td>2</td>\n",
       "      <td>74.300000</td>\n",
       "      <td>CN</td>\n",
       "      <td>NL</td>\n",
       "      <td>CN</td>\n",
       "      <td>CN</td>\n",
       "    </tr>\n",
       "    <tr>\n",
       "      <th>1</th>\n",
       "      <td>2</td>\n",
       "      <td>74.790075</td>\n",
       "      <td>CN</td>\n",
       "      <td>NL</td>\n",
       "      <td>CN</td>\n",
       "      <td>CN</td>\n",
       "    </tr>\n",
       "    <tr>\n",
       "      <th>2</th>\n",
       "      <td>2</td>\n",
       "      <td>77.267830</td>\n",
       "      <td>CN</td>\n",
       "      <td>NL</td>\n",
       "      <td>CN</td>\n",
       "      <td>CN</td>\n",
       "    </tr>\n",
       "    <tr>\n",
       "      <th>3</th>\n",
       "      <td>2</td>\n",
       "      <td>79.337645</td>\n",
       "      <td>CN</td>\n",
       "      <td>NL</td>\n",
       "      <td>CN</td>\n",
       "      <td>NaN</td>\n",
       "    </tr>\n",
       "    <tr>\n",
       "      <th>4</th>\n",
       "      <td>2</td>\n",
       "      <td>79.783915</td>\n",
       "      <td>CN</td>\n",
       "      <td>NaN</td>\n",
       "      <td>NaN</td>\n",
       "      <td>CN</td>\n",
       "    </tr>\n",
       "    <tr>\n",
       "      <th>...</th>\n",
       "      <td>...</td>\n",
       "      <td>...</td>\n",
       "      <td>...</td>\n",
       "      <td>...</td>\n",
       "      <td>...</td>\n",
       "      <td>...</td>\n",
       "    </tr>\n",
       "    <tr>\n",
       "      <th>12736</th>\n",
       "      <td>5295</td>\n",
       "      <td>75.500000</td>\n",
       "      <td>SMC</td>\n",
       "      <td>NL</td>\n",
       "      <td>CN</td>\n",
       "      <td>NaN</td>\n",
       "    </tr>\n",
       "    <tr>\n",
       "      <th>12737</th>\n",
       "      <td>5295</td>\n",
       "      <td>75.677960</td>\n",
       "      <td>SMC</td>\n",
       "      <td>NaN</td>\n",
       "      <td>NaN</td>\n",
       "      <td>CN</td>\n",
       "    </tr>\n",
       "    <tr>\n",
       "      <th>12738</th>\n",
       "      <td>5295</td>\n",
       "      <td>77.490418</td>\n",
       "      <td>SMC</td>\n",
       "      <td>NL</td>\n",
       "      <td>CN</td>\n",
       "      <td>NaN</td>\n",
       "    </tr>\n",
       "    <tr>\n",
       "      <th>12739</th>\n",
       "      <td>5296</td>\n",
       "      <td>69.300000</td>\n",
       "      <td>SMC</td>\n",
       "      <td>NL</td>\n",
       "      <td>CN</td>\n",
       "      <td>CN</td>\n",
       "    </tr>\n",
       "    <tr>\n",
       "      <th>12740</th>\n",
       "      <td>5296</td>\n",
       "      <td>71.295893</td>\n",
       "      <td>SMC</td>\n",
       "      <td>NL</td>\n",
       "      <td>CN</td>\n",
       "      <td>NaN</td>\n",
       "    </tr>\n",
       "  </tbody>\n",
       "</table>\n",
       "<p>12741 rows × 6 columns</p>\n",
       "</div>"
      ],
      "text/plain": [
       "        RID  AGE_AT_EXAM DX_bl   DX diagnosis target_diagnosis\n",
       "0         2    74.300000    CN   NL        CN               CN\n",
       "1         2    74.790075    CN   NL        CN               CN\n",
       "2         2    77.267830    CN   NL        CN               CN\n",
       "3         2    79.337645    CN   NL        CN              NaN\n",
       "4         2    79.783915    CN  NaN       NaN               CN\n",
       "...     ...          ...   ...  ...       ...              ...\n",
       "12736  5295    75.500000   SMC   NL        CN              NaN\n",
       "12737  5295    75.677960   SMC  NaN       NaN               CN\n",
       "12738  5295    77.490418   SMC   NL        CN              NaN\n",
       "12739  5296    69.300000   SMC   NL        CN               CN\n",
       "12740  5296    71.295893   SMC   NL        CN              NaN\n",
       "\n",
       "[12741 rows x 6 columns]"
      ]
     },
     "execution_count": 20,
     "metadata": {},
     "output_type": "execute_result"
    }
   ],
   "source": [
    "# fill NaN in diagnosis\n",
    "\n",
    "df_03 = df.loc[:, ['RID', 'AGE_AT_EXAM', 'DX_bl', 'DX', 'diagnosis', 'target_diagnosis']].sort_values(by=['RID', 'AGE_AT_EXAM'])\n",
    "df_03"
   ]
  },
  {
   "cell_type": "code",
   "execution_count": 21,
   "metadata": {},
   "outputs": [
    {
     "data": {
      "text/html": [
       "<div>\n",
       "<style scoped>\n",
       "    .dataframe tbody tr th:only-of-type {\n",
       "        vertical-align: middle;\n",
       "    }\n",
       "\n",
       "    .dataframe tbody tr th {\n",
       "        vertical-align: top;\n",
       "    }\n",
       "\n",
       "    .dataframe thead th {\n",
       "        text-align: right;\n",
       "    }\n",
       "</style>\n",
       "<table border=\"1\" class=\"dataframe\">\n",
       "  <thead>\n",
       "    <tr style=\"text-align: right;\">\n",
       "      <th></th>\n",
       "      <th>RID</th>\n",
       "      <th>AGE_AT_EXAM</th>\n",
       "      <th>DX_bl</th>\n",
       "      <th>DX</th>\n",
       "      <th>diagnosis</th>\n",
       "      <th>target_diagnosis</th>\n",
       "      <th>prev_diagnosis</th>\n",
       "      <th>temp_diagnosis</th>\n",
       "    </tr>\n",
       "  </thead>\n",
       "  <tbody>\n",
       "    <tr>\n",
       "      <th>0</th>\n",
       "      <td>2</td>\n",
       "      <td>74.300000</td>\n",
       "      <td>CN</td>\n",
       "      <td>NL</td>\n",
       "      <td>CN</td>\n",
       "      <td>CN</td>\n",
       "      <td>NaN</td>\n",
       "      <td>CN</td>\n",
       "    </tr>\n",
       "    <tr>\n",
       "      <th>1</th>\n",
       "      <td>2</td>\n",
       "      <td>74.790075</td>\n",
       "      <td>CN</td>\n",
       "      <td>NL</td>\n",
       "      <td>CN</td>\n",
       "      <td>CN</td>\n",
       "      <td>CN</td>\n",
       "      <td>CN</td>\n",
       "    </tr>\n",
       "    <tr>\n",
       "      <th>2</th>\n",
       "      <td>2</td>\n",
       "      <td>77.267830</td>\n",
       "      <td>CN</td>\n",
       "      <td>NL</td>\n",
       "      <td>CN</td>\n",
       "      <td>CN</td>\n",
       "      <td>CN</td>\n",
       "      <td>CN</td>\n",
       "    </tr>\n",
       "    <tr>\n",
       "      <th>3</th>\n",
       "      <td>2</td>\n",
       "      <td>79.337645</td>\n",
       "      <td>CN</td>\n",
       "      <td>NL</td>\n",
       "      <td>CN</td>\n",
       "      <td>NaN</td>\n",
       "      <td>CN</td>\n",
       "      <td>CN</td>\n",
       "    </tr>\n",
       "    <tr>\n",
       "      <th>4</th>\n",
       "      <td>2</td>\n",
       "      <td>79.783915</td>\n",
       "      <td>CN</td>\n",
       "      <td>NaN</td>\n",
       "      <td>NaN</td>\n",
       "      <td>CN</td>\n",
       "      <td>CN</td>\n",
       "      <td>CN</td>\n",
       "    </tr>\n",
       "    <tr>\n",
       "      <th>...</th>\n",
       "      <td>...</td>\n",
       "      <td>...</td>\n",
       "      <td>...</td>\n",
       "      <td>...</td>\n",
       "      <td>...</td>\n",
       "      <td>...</td>\n",
       "      <td>...</td>\n",
       "      <td>...</td>\n",
       "    </tr>\n",
       "    <tr>\n",
       "      <th>12736</th>\n",
       "      <td>5295</td>\n",
       "      <td>75.500000</td>\n",
       "      <td>SMC</td>\n",
       "      <td>NL</td>\n",
       "      <td>CN</td>\n",
       "      <td>NaN</td>\n",
       "      <td>NaN</td>\n",
       "      <td>CN</td>\n",
       "    </tr>\n",
       "    <tr>\n",
       "      <th>12737</th>\n",
       "      <td>5295</td>\n",
       "      <td>75.677960</td>\n",
       "      <td>SMC</td>\n",
       "      <td>NaN</td>\n",
       "      <td>NaN</td>\n",
       "      <td>CN</td>\n",
       "      <td>CN</td>\n",
       "      <td>CN</td>\n",
       "    </tr>\n",
       "    <tr>\n",
       "      <th>12738</th>\n",
       "      <td>5295</td>\n",
       "      <td>77.490418</td>\n",
       "      <td>SMC</td>\n",
       "      <td>NL</td>\n",
       "      <td>CN</td>\n",
       "      <td>NaN</td>\n",
       "      <td>NaN</td>\n",
       "      <td>CN</td>\n",
       "    </tr>\n",
       "    <tr>\n",
       "      <th>12739</th>\n",
       "      <td>5296</td>\n",
       "      <td>69.300000</td>\n",
       "      <td>SMC</td>\n",
       "      <td>NL</td>\n",
       "      <td>CN</td>\n",
       "      <td>CN</td>\n",
       "      <td>NaN</td>\n",
       "      <td>CN</td>\n",
       "    </tr>\n",
       "    <tr>\n",
       "      <th>12740</th>\n",
       "      <td>5296</td>\n",
       "      <td>71.295893</td>\n",
       "      <td>SMC</td>\n",
       "      <td>NL</td>\n",
       "      <td>CN</td>\n",
       "      <td>NaN</td>\n",
       "      <td>CN</td>\n",
       "      <td>CN</td>\n",
       "    </tr>\n",
       "  </tbody>\n",
       "</table>\n",
       "<p>12741 rows × 8 columns</p>\n",
       "</div>"
      ],
      "text/plain": [
       "        RID  AGE_AT_EXAM DX_bl   DX diagnosis target_diagnosis prev_diagnosis  \\\n",
       "0         2    74.300000    CN   NL        CN               CN            NaN   \n",
       "1         2    74.790075    CN   NL        CN               CN             CN   \n",
       "2         2    77.267830    CN   NL        CN               CN             CN   \n",
       "3         2    79.337645    CN   NL        CN              NaN             CN   \n",
       "4         2    79.783915    CN  NaN       NaN               CN             CN   \n",
       "...     ...          ...   ...  ...       ...              ...            ...   \n",
       "12736  5295    75.500000   SMC   NL        CN              NaN            NaN   \n",
       "12737  5295    75.677960   SMC  NaN       NaN               CN             CN   \n",
       "12738  5295    77.490418   SMC   NL        CN              NaN            NaN   \n",
       "12739  5296    69.300000   SMC   NL        CN               CN            NaN   \n",
       "12740  5296    71.295893   SMC   NL        CN              NaN             CN   \n",
       "\n",
       "      temp_diagnosis  \n",
       "0                 CN  \n",
       "1                 CN  \n",
       "2                 CN  \n",
       "3                 CN  \n",
       "4                 CN  \n",
       "...              ...  \n",
       "12736             CN  \n",
       "12737             CN  \n",
       "12738             CN  \n",
       "12739             CN  \n",
       "12740             CN  \n",
       "\n",
       "[12741 rows x 8 columns]"
      ]
     },
     "execution_count": 21,
     "metadata": {},
     "output_type": "execute_result"
    }
   ],
   "source": [
    "df_03['prev_diagnosis'] = df_03.groupby('RID')['diagnosis'].shift(periods=1)\n",
    "cond = df_03['target_diagnosis'] == df_03['prev_diagnosis']\n",
    "df_03['temp_diagnosis'] = df_03['target_diagnosis'].where(cond, df_03['diagnosis'])\n",
    "df_03"
   ]
  },
  {
   "cell_type": "code",
   "execution_count": 22,
   "metadata": {},
   "outputs": [
    {
     "name": "stdout",
     "output_type": "stream",
     "text": [
      "no. filled diagnosis values: 2840\n"
     ]
    }
   ],
   "source": [
    "print(f\"no. filled diagnosis values: {df_03['diagnosis'].isna().sum() - df_03['temp_diagnosis'].isna().sum()}\")"
   ]
  },
  {
   "cell_type": "markdown",
   "metadata": {},
   "source": [
    "Woah thats a lot of filled values!"
   ]
  },
  {
   "cell_type": "code",
   "execution_count": 23,
   "metadata": {},
   "outputs": [
    {
     "name": "stdout",
     "output_type": "stream",
     "text": [
      "length of subset: 6893\n",
      "state changes: 321\n",
      "state changes as frac of full dataset: 0.02519425476807158\n",
      "state changes as frac of subset: 0.046568983026258524\n"
     ]
    }
   ],
   "source": [
    "df_04 = df_03.dropna(subset=['target_diagnosis', 'temp_diagnosis'])\n",
    "n_state_changes = (df_04['temp_diagnosis'] != df_04['target_diagnosis']).sum()\n",
    "\n",
    "print(f'length of subset: {len(df_04)}')\n",
    "print(f'state changes: {n_state_changes}')\n",
    "print(f'state changes as frac of full dataset: {n_state_changes / len(df)}')\n",
    "print(f'state changes as frac of subset: {n_state_changes / len(df_04)}')"
   ]
  },
  {
   "cell_type": "code",
   "execution_count": 24,
   "metadata": {},
   "outputs": [
    {
     "data": {
      "text/plain": [
       "0"
      ]
     },
     "execution_count": 24,
     "metadata": {},
     "output_type": "execute_result"
    }
   ],
   "source": [
    "df_04['target_diagnosis'].isna().sum()"
   ]
  },
  {
   "cell_type": "code",
   "execution_count": 25,
   "metadata": {
    "scrolled": false
   },
   "outputs": [
    {
     "data": {
      "text/plain": [
       "<matplotlib.axes._subplots.AxesSubplot at 0x144717910>"
      ]
     },
     "execution_count": 25,
     "metadata": {},
     "output_type": "execute_result"
    },
    {
     "data": {
      "image/png": "[encoded data removed]",
      "text/plain": [
       "<Figure size 432x288 with 1 Axes>"
      ]
     },
     "metadata": {
      "needs_background": "light"
     },
     "output_type": "display_data"
    }
   ],
   "source": [
    "# state changes per patient\n",
    "df_04.groupby('RID').apply(lambda x: x['temp_diagnosis'] != x['target_diagnosis']).groupby('RID').sum().hist()"
   ]
  },
  {
   "cell_type": "code",
   "execution_count": 9,
   "metadata": {},
   "outputs": [
    {
     "data": {
      "text/plain": [
       "<matplotlib.axes._subplots.AxesSubplot at 0x1252709d0>"
      ]
     },
     "execution_count": 9,
     "metadata": {},
     "output_type": "execute_result"
    },
    {
     "data": {
      "image/png": "[encoded data removed]",
      "text/plain": [
       "<Figure size 432x288 with 1 Axes>"
      ]
     },
     "metadata": {
      "needs_background": "light"
     },
     "output_type": "display_data"
    }
   ],
   "source": [
    "# time since first visit per patient\n",
    "df.EXAMDATE = pd.to_datetime(df.EXAMDATE)\n",
    "df.groupby('RID').apply(lambda x:(x['EXAMDATE']-x['EXAMDATE'].min()).dt.days/365.25).hist()"
   ]
  },
  {
   "cell_type": "code",
   "execution_count": null,
   "metadata": {},
   "outputs": [],
   "source": []
  },
  {
   "cell_type": "markdown",
   "metadata": {},
   "source": [
    "# Filling in the NaNs in the og df"
   ]
  },
  {
   "cell_type": "code",
   "execution_count": 204,
   "metadata": {},
   "outputs": [],
   "source": [
    "df = df.sort_values(by=['RID', 'AGE_AT_EXAM'])\n",
    "df['prev_diagnosis'] = df.groupby('RID')['diagnosis'].shift(periods=1)\n",
    "cond = df['target_diagnosis'] == df['prev_diagnosis']\n",
    "df['diagnosis'] = df['target_diagnosis'].where(cond, df['diagnosis'])"
   ]
  },
  {
   "cell_type": "code",
   "execution_count": null,
   "metadata": {},
   "outputs": [],
   "source": []
  },
  {
   "cell_type": "markdown",
   "metadata": {},
   "source": [
    "## Examining the NaNs\n",
    "\n",
    "Lets visualise the null values."
   ]
  },
  {
   "cell_type": "code",
   "execution_count": 10,
   "metadata": {},
   "outputs": [],
   "source": [
    "# these are the suggested biomarkers for those unfamilier with ADNI data\n",
    "# according to https://tadpole.grand-challenge.org/Data/\n",
    "features = {\n",
    "    'dataset': ['RID'],\n",
    "    # 'dataset': ['RID', 'D1', 'D2'],\n",
    "    'prediction': ['diagnosis', 'ADAS13', 'Ventricles'],\n",
    "    'cognitive_tests': ['CDRSB', 'ADAS11', 'MMSE', 'RAVLT_immediate'],\n",
    "    'mri': ['Hippocampus', 'WholeBrain', 'Entorhinal', 'MidTemp'],\n",
    "#     'pet': ['FDG', 'AV45'],\n",
    "#     'csf': ['ABETA_UPENNBIOMK9_04_19_17', 'TAU_UPENNBIOMK9_04_19_17', 'PTAU_UPENNBIOMK9_04_19_17'],\n",
    "    'risk_factors': ['APOE4', 'AGE_AT_EXAM']\n",
    "}\n",
    "\n",
    "# make a shortcut list of the interesting columns\n",
    "columns_of_interest = []\n",
    "for feature_list in features.values():\n",
    "    columns_of_interest += feature_list"
   ]
  },
  {
   "cell_type": "code",
   "execution_count": 11,
   "metadata": {},
   "outputs": [
    {
     "data": {
      "text/plain": [
       "RID                0.000000\n",
       "diagnosis          0.301154\n",
       "ADAS13             0.307433\n",
       "Ventricles         0.415666\n",
       "CDRSB              0.296523\n",
       "ADAS11             0.300683\n",
       "MMSE               0.298956\n",
       "RAVLT_immediate    0.306883\n",
       "Hippocampus        0.466133\n",
       "WholeBrain         0.396515\n",
       "Entorhinal         0.492269\n",
       "MidTemp            0.492269\n",
       "APOE4              0.000942\n",
       "AGE_AT_EXAM        0.000000\n",
       "dtype: float64"
      ]
     },
     "execution_count": 11,
     "metadata": {},
     "output_type": "execute_result"
    }
   ],
   "source": [
    "# proportion of NaNs per feature\n",
    "df[columns_of_interest].isnull().sum() / len(df)"
   ]
  },
  {
   "cell_type": "markdown",
   "metadata": {},
   "source": [
    "Woah... looks like up to around 80% of the data is missing from some features!\n",
    "\n",
    "This makes sense for the clinical features, because fewer patients would be expected to have undergone the procedures. Especially the csf procedure as its particularly invasive.\n",
    "\n",
    "However, around 30% of the clinical diagnoses (and other target features) are missing..."
   ]
  },
  {
   "cell_type": "code",
   "execution_count": 19,
   "metadata": {
    "scrolled": false
   },
   "outputs": [
    {
     "data": {
      "image/png": "[encoded data removed]",
      "text/plain": [
       "<Figure size 1800x720 with 2 Axes>"
      ]
     },
     "metadata": {
      "needs_background": "light"
     },
     "output_type": "display_data"
    }
   ],
   "source": [
    "import missingno as msno\n",
    "\n",
    "# This visualises the distribution of NaNs throughout \n",
    "# the dataset. Each NaN shows as a white line, and \n",
    "# each value shows as a black line.\n",
    "msno.matrix(df[columns_of_interest])\n",
    "plt.savefig('test.eps')"
   ]
  },
  {
   "cell_type": "code",
   "execution_count": 209,
   "metadata": {
    "scrolled": false
   },
   "outputs": [
    {
     "data": {
      "text/plain": [
       "<matplotlib.axes._subplots.AxesSubplot at 0x15a9303d0>"
      ]
     },
     "execution_count": 209,
     "metadata": {},
     "output_type": "execute_result"
    },
    {
     "data": {
      "image/png": "[encoded data removed]",
      "text/plain": [
       "<Figure size 1728x720 with 3 Axes>"
      ]
     },
     "metadata": {
      "needs_background": "light"
     },
     "output_type": "display_data"
    }
   ],
   "source": [
    "# Same deal as above; this is a bar chart of the number\n",
    "# of values for each feature.\n",
    "msno.bar(df[columns_of_interest])"
   ]
  },
  {
   "cell_type": "markdown",
   "metadata": {},
   "source": [
    "Wow, we've actually filled a lot of those diagnosis values."
   ]
  },
  {
   "cell_type": "code",
   "execution_count": 210,
   "metadata": {},
   "outputs": [
    {
     "data": {
      "text/plain": [
       "<matplotlib.axes._subplots.AxesSubplot at 0x1583a6df0>"
      ]
     },
     "execution_count": 210,
     "metadata": {},
     "output_type": "execute_result"
    },
    {
     "data": {
      "image/png": "[encoded data removed]",
      "text/plain": [
       "<Figure size 1440x864 with 2 Axes>"
      ]
     },
     "metadata": {
      "needs_background": "light"
     },
     "output_type": "display_data"
    }
   ],
   "source": [
    "# A `seaborn` heatmap visualization of nullity correlation.\n",
    "# 1 siginifies that if one value is missing then the other\n",
    "# is likely to be missing, -1 signifies that if one value\n",
    "# is present then the other is likely to be missing.\n",
    "msno.heatmap(df[columns_of_interest])"
   ]
  },
  {
   "cell_type": "code",
   "execution_count": 214,
   "metadata": {
    "scrolled": false
   },
   "outputs": [
    {
     "data": {
      "text/html": [
       "<div>\n",
       "<style scoped>\n",
       "    .dataframe tbody tr th:only-of-type {\n",
       "        vertical-align: middle;\n",
       "    }\n",
       "\n",
       "    .dataframe tbody tr th {\n",
       "        vertical-align: top;\n",
       "    }\n",
       "\n",
       "    .dataframe thead th {\n",
       "        text-align: right;\n",
       "    }\n",
       "</style>\n",
       "<table border=\"1\" class=\"dataframe\">\n",
       "  <thead>\n",
       "    <tr style=\"text-align: right;\">\n",
       "      <th></th>\n",
       "      <th>RID</th>\n",
       "      <th>diagnosis</th>\n",
       "      <th>ADAS13</th>\n",
       "      <th>Ventricles</th>\n",
       "      <th>CDRSB</th>\n",
       "      <th>ADAS11</th>\n",
       "      <th>MMSE</th>\n",
       "      <th>RAVLT_immediate</th>\n",
       "      <th>Hippocampus</th>\n",
       "      <th>WholeBrain</th>\n",
       "      <th>Entorhinal</th>\n",
       "      <th>MidTemp</th>\n",
       "      <th>APOE4</th>\n",
       "      <th>AGE_AT_EXAM</th>\n",
       "    </tr>\n",
       "  </thead>\n",
       "  <tbody>\n",
       "    <tr>\n",
       "      <th>0</th>\n",
       "      <td>2</td>\n",
       "      <td>CN</td>\n",
       "      <td>18.67</td>\n",
       "      <td>118233.0</td>\n",
       "      <td>0.0</td>\n",
       "      <td>10.67</td>\n",
       "      <td>28.0</td>\n",
       "      <td>44.0</td>\n",
       "      <td>8336.0</td>\n",
       "      <td>1229740.0</td>\n",
       "      <td>4177.0</td>\n",
       "      <td>27936.0</td>\n",
       "      <td>0.0</td>\n",
       "      <td>74.300000</td>\n",
       "    </tr>\n",
       "    <tr>\n",
       "      <th>13</th>\n",
       "      <td>3</td>\n",
       "      <td>AD</td>\n",
       "      <td>31.00</td>\n",
       "      <td>84599.0</td>\n",
       "      <td>4.5</td>\n",
       "      <td>22.00</td>\n",
       "      <td>20.0</td>\n",
       "      <td>22.0</td>\n",
       "      <td>5319.0</td>\n",
       "      <td>1129830.0</td>\n",
       "      <td>1791.0</td>\n",
       "      <td>18422.0</td>\n",
       "      <td>1.0</td>\n",
       "      <td>81.300000</td>\n",
       "    </tr>\n",
       "    <tr>\n",
       "      <th>14</th>\n",
       "      <td>3</td>\n",
       "      <td>AD</td>\n",
       "      <td>30.00</td>\n",
       "      <td>88580.0</td>\n",
       "      <td>6.0</td>\n",
       "      <td>19.00</td>\n",
       "      <td>24.0</td>\n",
       "      <td>19.0</td>\n",
       "      <td>5446.0</td>\n",
       "      <td>1100060.0</td>\n",
       "      <td>2427.0</td>\n",
       "      <td>16972.0</td>\n",
       "      <td>1.0</td>\n",
       "      <td>81.798289</td>\n",
       "    </tr>\n",
       "    <tr>\n",
       "      <th>15</th>\n",
       "      <td>3</td>\n",
       "      <td>AD</td>\n",
       "      <td>35.00</td>\n",
       "      <td>90099.0</td>\n",
       "      <td>3.5</td>\n",
       "      <td>24.00</td>\n",
       "      <td>17.0</td>\n",
       "      <td>31.0</td>\n",
       "      <td>5157.0</td>\n",
       "      <td>1095640.0</td>\n",
       "      <td>1596.0</td>\n",
       "      <td>17330.0</td>\n",
       "      <td>1.0</td>\n",
       "      <td>82.299316</td>\n",
       "    </tr>\n",
       "    <tr>\n",
       "      <th>17</th>\n",
       "      <td>3</td>\n",
       "      <td>AD</td>\n",
       "      <td>37.67</td>\n",
       "      <td>97420.0</td>\n",
       "      <td>8.0</td>\n",
       "      <td>25.67</td>\n",
       "      <td>19.0</td>\n",
       "      <td>23.0</td>\n",
       "      <td>5139.0</td>\n",
       "      <td>1088560.0</td>\n",
       "      <td>1175.0</td>\n",
       "      <td>16398.0</td>\n",
       "      <td>1.0</td>\n",
       "      <td>83.298631</td>\n",
       "    </tr>\n",
       "    <tr>\n",
       "      <th>...</th>\n",
       "      <td>...</td>\n",
       "      <td>...</td>\n",
       "      <td>...</td>\n",
       "      <td>...</td>\n",
       "      <td>...</td>\n",
       "      <td>...</td>\n",
       "      <td>...</td>\n",
       "      <td>...</td>\n",
       "      <td>...</td>\n",
       "      <td>...</td>\n",
       "      <td>...</td>\n",
       "      <td>...</td>\n",
       "      <td>...</td>\n",
       "      <td>...</td>\n",
       "    </tr>\n",
       "    <tr>\n",
       "      <th>12730</th>\n",
       "      <td>5290</td>\n",
       "      <td>CN</td>\n",
       "      <td>7.00</td>\n",
       "      <td>12472.0</td>\n",
       "      <td>0.0</td>\n",
       "      <td>6.00</td>\n",
       "      <td>30.0</td>\n",
       "      <td>52.0</td>\n",
       "      <td>7424.0</td>\n",
       "      <td>1010220.0</td>\n",
       "      <td>3970.0</td>\n",
       "      <td>19348.0</td>\n",
       "      <td>1.0</td>\n",
       "      <td>69.017796</td>\n",
       "    </tr>\n",
       "    <tr>\n",
       "      <th>12731</th>\n",
       "      <td>5292</td>\n",
       "      <td>CN</td>\n",
       "      <td>5.00</td>\n",
       "      <td>14873.0</td>\n",
       "      <td>0.0</td>\n",
       "      <td>3.00</td>\n",
       "      <td>30.0</td>\n",
       "      <td>41.0</td>\n",
       "      <td>7102.0</td>\n",
       "      <td>985330.0</td>\n",
       "      <td>3789.0</td>\n",
       "      <td>17767.0</td>\n",
       "      <td>0.0</td>\n",
       "      <td>74.300000</td>\n",
       "    </tr>\n",
       "    <tr>\n",
       "      <th>12733</th>\n",
       "      <td>5292</td>\n",
       "      <td>CN</td>\n",
       "      <td>5.00</td>\n",
       "      <td>17160.0</td>\n",
       "      <td>0.5</td>\n",
       "      <td>3.00</td>\n",
       "      <td>29.0</td>\n",
       "      <td>31.0</td>\n",
       "      <td>6918.0</td>\n",
       "      <td>980610.0</td>\n",
       "      <td>3791.0</td>\n",
       "      <td>17196.0</td>\n",
       "      <td>0.0</td>\n",
       "      <td>76.317796</td>\n",
       "    </tr>\n",
       "    <tr>\n",
       "      <th>12734</th>\n",
       "      <td>5294</td>\n",
       "      <td>CN</td>\n",
       "      <td>11.00</td>\n",
       "      <td>21884.0</td>\n",
       "      <td>0.0</td>\n",
       "      <td>8.00</td>\n",
       "      <td>30.0</td>\n",
       "      <td>49.0</td>\n",
       "      <td>8119.0</td>\n",
       "      <td>1077990.0</td>\n",
       "      <td>4498.0</td>\n",
       "      <td>21762.0</td>\n",
       "      <td>1.0</td>\n",
       "      <td>68.500000</td>\n",
       "    </tr>\n",
       "    <tr>\n",
       "      <th>12739</th>\n",
       "      <td>5296</td>\n",
       "      <td>CN</td>\n",
       "      <td>14.00</td>\n",
       "      <td>18633.0</td>\n",
       "      <td>0.0</td>\n",
       "      <td>9.00</td>\n",
       "      <td>29.0</td>\n",
       "      <td>38.0</td>\n",
       "      <td>10602.0</td>\n",
       "      <td>1486040.0</td>\n",
       "      <td>4701.0</td>\n",
       "      <td>32189.0</td>\n",
       "      <td>0.0</td>\n",
       "      <td>69.300000</td>\n",
       "    </tr>\n",
       "  </tbody>\n",
       "</table>\n",
       "<p>5325 rows × 14 columns</p>\n",
       "</div>"
      ],
      "text/plain": [
       "        RID diagnosis  ADAS13  Ventricles  CDRSB  ADAS11  MMSE  \\\n",
       "0         2        CN   18.67    118233.0    0.0   10.67  28.0   \n",
       "13        3        AD   31.00     84599.0    4.5   22.00  20.0   \n",
       "14        3        AD   30.00     88580.0    6.0   19.00  24.0   \n",
       "15        3        AD   35.00     90099.0    3.5   24.00  17.0   \n",
       "17        3        AD   37.67     97420.0    8.0   25.67  19.0   \n",
       "...     ...       ...     ...         ...    ...     ...   ...   \n",
       "12730  5290        CN    7.00     12472.0    0.0    6.00  30.0   \n",
       "12731  5292        CN    5.00     14873.0    0.0    3.00  30.0   \n",
       "12733  5292        CN    5.00     17160.0    0.5    3.00  29.0   \n",
       "12734  5294        CN   11.00     21884.0    0.0    8.00  30.0   \n",
       "12739  5296        CN   14.00     18633.0    0.0    9.00  29.0   \n",
       "\n",
       "       RAVLT_immediate  Hippocampus  WholeBrain  Entorhinal  MidTemp  APOE4  \\\n",
       "0                 44.0       8336.0   1229740.0      4177.0  27936.0    0.0   \n",
       "13                22.0       5319.0   1129830.0      1791.0  18422.0    1.0   \n",
       "14                19.0       5446.0   1100060.0      2427.0  16972.0    1.0   \n",
       "15                31.0       5157.0   1095640.0      1596.0  17330.0    1.0   \n",
       "17                23.0       5139.0   1088560.0      1175.0  16398.0    1.0   \n",
       "...                ...          ...         ...         ...      ...    ...   \n",
       "12730             52.0       7424.0   1010220.0      3970.0  19348.0    1.0   \n",
       "12731             41.0       7102.0    985330.0      3789.0  17767.0    0.0   \n",
       "12733             31.0       6918.0    980610.0      3791.0  17196.0    0.0   \n",
       "12734             49.0       8119.0   1077990.0      4498.0  21762.0    1.0   \n",
       "12739             38.0      10602.0   1486040.0      4701.0  32189.0    0.0   \n",
       "\n",
       "       AGE_AT_EXAM  \n",
       "0        74.300000  \n",
       "13       81.300000  \n",
       "14       81.798289  \n",
       "15       82.299316  \n",
       "17       83.298631  \n",
       "...            ...  \n",
       "12730    69.017796  \n",
       "12731    74.300000  \n",
       "12733    76.317796  \n",
       "12734    68.500000  \n",
       "12739    69.300000  \n",
       "\n",
       "[5325 rows x 14 columns]"
      ]
     },
     "execution_count": 214,
     "metadata": {},
     "output_type": "execute_result"
    }
   ],
   "source": [
    "df[columns_of_interest].dropna()"
   ]
  },
  {
   "cell_type": "code",
   "execution_count": null,
   "metadata": {},
   "outputs": [],
   "source": []
  }
 ],
 "metadata": {
  "celltoolbar": "Slideshow",
  "kernelspec": {
   "display_name": "babylon",
   "language": "python",
   "name": "babylon"
  },
  "language_info": {
   "codemirror_mode": {
    "name": "ipython",
    "version": 3
   },
   "file_extension": ".py",
   "mimetype": "text/x-python",
   "name": "python",
   "nbconvert_exporter": "python",
   "pygments_lexer": "ipython3",
   "version": "3.7.6"
  }
 },
 "nbformat": 4,
 "nbformat_minor": 2
}
